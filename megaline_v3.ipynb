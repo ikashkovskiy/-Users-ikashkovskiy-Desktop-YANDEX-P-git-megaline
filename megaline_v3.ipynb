{
 "cells": [
  {
   "cell_type": "markdown",
   "id": "acc0b468",
   "metadata": {},
   "source": [
    "### **Начало проекта**"
   ]
  },
  {
   "cell_type": "markdown",
   "id": "8d8c37e2",
   "metadata": {},
   "source": [
    "**Введение в проект**\n",
    "\n",
    "\n",
    "Вам предстоит сделать предварительный анализ тарифов на небольшой выборке клиентов. В вашем распоряжении данные 500 пользователей «Мегалайна»: кто они, откуда, каким тарифом пользуются, сколько звонков и сообщений каждый отправил за 2018 год. Нужно проанализировать поведение клиентов и сделать вывод — какой тариф лучше.\n"
   ]
  },
  {
   "cell_type": "markdown",
   "id": "cf74aaa3",
   "metadata": {},
   "source": [
    "#### **Шаг 1. Открываем файлы с данными и изучаем общую информацию**"
   ]
  },
  {
   "cell_type": "code",
   "execution_count": 56,
   "id": "3d96e257",
   "metadata": {},
   "outputs": [],
   "source": [
    "import pandas as pd\n",
    "import matplotlib.pyplot as plt \n",
    "import numpy as np\n",
    "import os\n",
    "from scipy import stats as st\n",
    "from sklearn import datasets\n",
    "import seaborn as sns\n",
    "# import altair as alt"
   ]
  },
  {
   "cell_type": "code",
   "execution_count": 57,
   "id": "64c559aa",
   "metadata": {},
   "outputs": [],
   "source": [
    "pth1 = '/Users/ikashkovskiy/Desktop/YANDEX P/data/megaline/calls.csv' \n",
    "pth2 = '/datasets/calls.csv'\n",
    "\n",
    "if os.path.exists(pth1):\n",
    "    df_calls = pd.read_csv(pth1)\n",
    "elif os.path.exists(pth2):\n",
    "    df_calls = pd.read_csv(pth2)\n",
    "else:\n",
    "    print('Something is wrong')"
   ]
  },
  {
   "cell_type": "code",
   "execution_count": 58,
   "id": "730b7ff4",
   "metadata": {},
   "outputs": [],
   "source": [
    "pth3 = '/Users/ikashkovskiy/Desktop/YANDEX P/data/megaline/internet.csv' \n",
    "pth4 = '/datasets/internet.csv'\n",
    "\n",
    "if os.path.exists(pth3):\n",
    "    df_internet = pd.read_csv(pth3)\n",
    "elif os.path.exists(pth4):\n",
    "    df_internet = pd.read_csv(pth4) \n",
    "else:\n",
    "    print('Something is wrong')"
   ]
  },
  {
   "cell_type": "code",
   "execution_count": 59,
   "id": "8e725fc1",
   "metadata": {},
   "outputs": [],
   "source": [
    "pth5 = '/Users/ikashkovskiy/Desktop/YANDEX P/data/megaline/messages.csv' \n",
    "pth6 = '/datasets/messages.csv'\n",
    "\n",
    "if os.path.exists(pth5):\n",
    "    df_messages = pd.read_csv(pth5)\n",
    "elif os.path.exists(pth6):\n",
    "    df_messages = pd.read_csv(pth6)  \n",
    "else:\n",
    "    print('Something is wrong')"
   ]
  },
  {
   "cell_type": "code",
   "execution_count": 60,
   "id": "1b452b0c",
   "metadata": {},
   "outputs": [],
   "source": [
    "pth7 = '/Users/ikashkovskiy/Desktop/YANDEX P/data/megaline/tariffs.csv' \n",
    "pth8 = '/datasets/tariffs.csv'\n",
    "\n",
    "if os.path.exists(pth7):\n",
    "    df_tariffs = pd.read_csv(pth7)\n",
    "elif os.path.exists(pth8):\n",
    "    df_tariffs = pd.read_csv(pth8) \n",
    "else:\n",
    "    print('Something is wrong')"
   ]
  },
  {
   "cell_type": "code",
   "execution_count": 61,
   "id": "d455304d",
   "metadata": {},
   "outputs": [],
   "source": [
    "pth9 = '/Users/ikashkovskiy/Desktop/YANDEX P/data/megaline/users.csv' \n",
    "pth10 = '/datasets/users.csv'\n",
    "\n",
    "if os.path.exists(pth7):\n",
    "    df_users = pd.read_csv(pth9)\n",
    "elif os.path.exists(pth8):\n",
    "    df_users = pd.read_csv(pth10) \n",
    "else:\n",
    "    print('Something is wrong')"
   ]
  },
  {
   "cell_type": "code",
   "execution_count": 62,
   "id": "944f5c05",
   "metadata": {
    "scrolled": true
   },
   "outputs": [],
   "source": [
    "#df_users.info()"
   ]
  },
  {
   "cell_type": "code",
   "execution_count": 63,
   "id": "f98c0b0b",
   "metadata": {},
   "outputs": [],
   "source": [
    "#df_messages.info()"
   ]
  },
  {
   "cell_type": "code",
   "execution_count": 64,
   "id": "72e5a26e",
   "metadata": {},
   "outputs": [],
   "source": [
    "#df_internet.info()"
   ]
  },
  {
   "cell_type": "code",
   "execution_count": 65,
   "id": "39e98162",
   "metadata": {},
   "outputs": [],
   "source": [
    "#df_calls.info()"
   ]
  },
  {
   "cell_type": "code",
   "execution_count": 66,
   "id": "4e1a9af2",
   "metadata": {},
   "outputs": [],
   "source": [
    "#df_tariffs.info()"
   ]
  },
  {
   "cell_type": "markdown",
   "id": "abb71785",
   "metadata": {},
   "source": [
    "**Данные получены, нужно изменить тип данных дат и удалить лишний столбец в df_internet**"
   ]
  },
  {
   "cell_type": "markdown",
   "id": "7a5a7f9e",
   "metadata": {},
   "source": [
    "### **Шаг 2. Подготовка данных**"
   ]
  },
  {
   "cell_type": "code",
   "execution_count": 67,
   "id": "f13c8d73",
   "metadata": {},
   "outputs": [],
   "source": [
    "df_users['reg_date'] = pd.to_datetime(df_users['reg_date'], format='%Y-%m-%d')"
   ]
  },
  {
   "cell_type": "code",
   "execution_count": 68,
   "id": "e8495b5f",
   "metadata": {},
   "outputs": [],
   "source": [
    "df_users['churn_date'] = pd.to_datetime(df_users['churn_date'], format='%Y-%m-%d')"
   ]
  },
  {
   "cell_type": "code",
   "execution_count": 69,
   "id": "a28facd4",
   "metadata": {},
   "outputs": [],
   "source": [
    "#исправил тип данных столбцов с датами на datetime64"
   ]
  },
  {
   "cell_type": "code",
   "execution_count": 70,
   "id": "46bd1487",
   "metadata": {},
   "outputs": [],
   "source": [
    "#добавляем столбец с месяцем\n",
    "df_messages['message_date'] = pd.to_datetime(df_messages['message_date'], format='%Y-%m-%d')\n",
    "df_messages['month'] = df_messages['message_date'].dt.month"
   ]
  },
  {
   "cell_type": "code",
   "execution_count": 71,
   "id": "59b0ad8b",
   "metadata": {},
   "outputs": [],
   "source": [
    "#добавляем столбец с месяцем\n",
    "df_internet['session_date'] = pd.to_datetime(df_internet['session_date'], format='%Y-%m-%d')\n",
    "df_internet['month'] = df_internet['session_date'].dt.month"
   ]
  },
  {
   "cell_type": "code",
   "execution_count": 72,
   "id": "3664a41b",
   "metadata": {},
   "outputs": [],
   "source": [
    "#удаляем лишний столбец\n",
    "df_internet = df_internet.drop('Unnamed: 0', axis=1)\n",
    "#df_internet.info()"
   ]
  },
  {
   "cell_type": "code",
   "execution_count": 73,
   "id": "1deeb3b5",
   "metadata": {},
   "outputs": [],
   "source": [
    "#добавляем столбец с месяцем\n",
    "df_calls['call_date'] = pd.to_datetime(df_calls['call_date'], format='%Y-%m-%d')\n",
    "df_calls['month'] = df_calls['call_date'].dt.month"
   ]
  },
  {
   "cell_type": "code",
   "execution_count": 74,
   "id": "a612721b",
   "metadata": {},
   "outputs": [
    {
     "data": {
      "text/html": [
       "<div>\n",
       "<style scoped>\n",
       "    .dataframe tbody tr th:only-of-type {\n",
       "        vertical-align: middle;\n",
       "    }\n",
       "\n",
       "    .dataframe tbody tr th {\n",
       "        vertical-align: top;\n",
       "    }\n",
       "\n",
       "    .dataframe thead th {\n",
       "        text-align: right;\n",
       "    }\n",
       "</style>\n",
       "<table border=\"1\" class=\"dataframe\">\n",
       "  <thead>\n",
       "    <tr style=\"text-align: right;\">\n",
       "      <th></th>\n",
       "      <th>id</th>\n",
       "      <th>call_date</th>\n",
       "      <th>duration</th>\n",
       "      <th>user_id</th>\n",
       "      <th>month</th>\n",
       "    </tr>\n",
       "  </thead>\n",
       "  <tbody>\n",
       "    <tr>\n",
       "      <th>0</th>\n",
       "      <td>1000_0</td>\n",
       "      <td>2018-07-25</td>\n",
       "      <td>0.00</td>\n",
       "      <td>1000</td>\n",
       "      <td>7</td>\n",
       "    </tr>\n",
       "    <tr>\n",
       "      <th>1</th>\n",
       "      <td>1000_1</td>\n",
       "      <td>2018-08-17</td>\n",
       "      <td>0.00</td>\n",
       "      <td>1000</td>\n",
       "      <td>8</td>\n",
       "    </tr>\n",
       "    <tr>\n",
       "      <th>2</th>\n",
       "      <td>1000_2</td>\n",
       "      <td>2018-06-11</td>\n",
       "      <td>2.85</td>\n",
       "      <td>1000</td>\n",
       "      <td>6</td>\n",
       "    </tr>\n",
       "    <tr>\n",
       "      <th>3</th>\n",
       "      <td>1000_3</td>\n",
       "      <td>2018-09-21</td>\n",
       "      <td>13.80</td>\n",
       "      <td>1000</td>\n",
       "      <td>9</td>\n",
       "    </tr>\n",
       "    <tr>\n",
       "      <th>4</th>\n",
       "      <td>1000_4</td>\n",
       "      <td>2018-12-15</td>\n",
       "      <td>5.18</td>\n",
       "      <td>1000</td>\n",
       "      <td>12</td>\n",
       "    </tr>\n",
       "    <tr>\n",
       "      <th>...</th>\n",
       "      <td>...</td>\n",
       "      <td>...</td>\n",
       "      <td>...</td>\n",
       "      <td>...</td>\n",
       "      <td>...</td>\n",
       "    </tr>\n",
       "    <tr>\n",
       "      <th>202602</th>\n",
       "      <td>1499_215</td>\n",
       "      <td>2018-12-26</td>\n",
       "      <td>0.76</td>\n",
       "      <td>1499</td>\n",
       "      <td>12</td>\n",
       "    </tr>\n",
       "    <tr>\n",
       "      <th>202603</th>\n",
       "      <td>1499_216</td>\n",
       "      <td>2018-10-18</td>\n",
       "      <td>18.83</td>\n",
       "      <td>1499</td>\n",
       "      <td>10</td>\n",
       "    </tr>\n",
       "    <tr>\n",
       "      <th>202604</th>\n",
       "      <td>1499_217</td>\n",
       "      <td>2018-11-10</td>\n",
       "      <td>10.81</td>\n",
       "      <td>1499</td>\n",
       "      <td>11</td>\n",
       "    </tr>\n",
       "    <tr>\n",
       "      <th>202605</th>\n",
       "      <td>1499_218</td>\n",
       "      <td>2018-10-06</td>\n",
       "      <td>4.27</td>\n",
       "      <td>1499</td>\n",
       "      <td>10</td>\n",
       "    </tr>\n",
       "    <tr>\n",
       "      <th>202606</th>\n",
       "      <td>1499_219</td>\n",
       "      <td>2018-12-14</td>\n",
       "      <td>19.62</td>\n",
       "      <td>1499</td>\n",
       "      <td>12</td>\n",
       "    </tr>\n",
       "  </tbody>\n",
       "</table>\n",
       "<p>202607 rows × 5 columns</p>\n",
       "</div>"
      ],
      "text/plain": [
       "              id  call_date  duration  user_id  month\n",
       "0         1000_0 2018-07-25      0.00     1000      7\n",
       "1         1000_1 2018-08-17      0.00     1000      8\n",
       "2         1000_2 2018-06-11      2.85     1000      6\n",
       "3         1000_3 2018-09-21     13.80     1000      9\n",
       "4         1000_4 2018-12-15      5.18     1000     12\n",
       "...          ...        ...       ...      ...    ...\n",
       "202602  1499_215 2018-12-26      0.76     1499     12\n",
       "202603  1499_216 2018-10-18     18.83     1499     10\n",
       "202604  1499_217 2018-11-10     10.81     1499     11\n",
       "202605  1499_218 2018-10-06      4.27     1499     10\n",
       "202606  1499_219 2018-12-14     19.62     1499     12\n",
       "\n",
       "[202607 rows x 5 columns]"
      ]
     },
     "execution_count": 74,
     "metadata": {},
     "output_type": "execute_result"
    }
   ],
   "source": [
    "df_calls"
   ]
  },
  {
   "cell_type": "code",
   "execution_count": 75,
   "id": "1a40cb8c",
   "metadata": {},
   "outputs": [],
   "source": [
    "#округляем минуты\n",
    "df_calls['duration'] = np.ceil(df_calls['duration'])"
   ]
  },
  {
   "cell_type": "code",
   "execution_count": 76,
   "id": "2f301cc9",
   "metadata": {
    "scrolled": true
   },
   "outputs": [
    {
     "data": {
      "text/html": [
       "<div>\n",
       "<style scoped>\n",
       "    .dataframe tbody tr th:only-of-type {\n",
       "        vertical-align: middle;\n",
       "    }\n",
       "\n",
       "    .dataframe tbody tr th {\n",
       "        vertical-align: top;\n",
       "    }\n",
       "\n",
       "    .dataframe thead th {\n",
       "        text-align: right;\n",
       "    }\n",
       "</style>\n",
       "<table border=\"1\" class=\"dataframe\">\n",
       "  <thead>\n",
       "    <tr style=\"text-align: right;\">\n",
       "      <th></th>\n",
       "      <th></th>\n",
       "      <th>calls_sum</th>\n",
       "      <th>minutes_sum</th>\n",
       "    </tr>\n",
       "    <tr>\n",
       "      <th>user_id</th>\n",
       "      <th>month</th>\n",
       "      <th></th>\n",
       "      <th></th>\n",
       "    </tr>\n",
       "  </thead>\n",
       "  <tbody>\n",
       "    <tr>\n",
       "      <th rowspan=\"8\" valign=\"top\">1000</th>\n",
       "      <th>5</th>\n",
       "      <td>22</td>\n",
       "      <td>159.0</td>\n",
       "    </tr>\n",
       "    <tr>\n",
       "      <th>6</th>\n",
       "      <td>43</td>\n",
       "      <td>172.0</td>\n",
       "    </tr>\n",
       "    <tr>\n",
       "      <th>7</th>\n",
       "      <td>47</td>\n",
       "      <td>340.0</td>\n",
       "    </tr>\n",
       "    <tr>\n",
       "      <th>8</th>\n",
       "      <td>52</td>\n",
       "      <td>408.0</td>\n",
       "    </tr>\n",
       "    <tr>\n",
       "      <th>9</th>\n",
       "      <td>58</td>\n",
       "      <td>466.0</td>\n",
       "    </tr>\n",
       "    <tr>\n",
       "      <th>10</th>\n",
       "      <td>57</td>\n",
       "      <td>350.0</td>\n",
       "    </tr>\n",
       "    <tr>\n",
       "      <th>11</th>\n",
       "      <td>43</td>\n",
       "      <td>338.0</td>\n",
       "    </tr>\n",
       "    <tr>\n",
       "      <th>12</th>\n",
       "      <td>46</td>\n",
       "      <td>333.0</td>\n",
       "    </tr>\n",
       "    <tr>\n",
       "      <th rowspan=\"2\" valign=\"top\">1001</th>\n",
       "      <th>11</th>\n",
       "      <td>59</td>\n",
       "      <td>430.0</td>\n",
       "    </tr>\n",
       "    <tr>\n",
       "      <th>12</th>\n",
       "      <td>63</td>\n",
       "      <td>414.0</td>\n",
       "    </tr>\n",
       "  </tbody>\n",
       "</table>\n",
       "</div>"
      ],
      "text/plain": [
       "               calls_sum  minutes_sum\n",
       "user_id month                        \n",
       "1000    5             22        159.0\n",
       "        6             43        172.0\n",
       "        7             47        340.0\n",
       "        8             52        408.0\n",
       "        9             58        466.0\n",
       "        10            57        350.0\n",
       "        11            43        338.0\n",
       "        12            46        333.0\n",
       "1001    11            59        430.0\n",
       "        12            63        414.0"
      ]
     },
     "execution_count": 76,
     "metadata": {},
     "output_type": "execute_result"
    }
   ],
   "source": [
    "#сумма звонков и минут по месяцам для каждого пользователя\n",
    "df_calls_sum = df_calls.pivot_table(index=['user_id', 'month'],aggfunc={'call_date':'count', 'duration':sum})\n",
    "df_calls_sum.columns = ['calls_sum', 'minutes_sum']\n",
    "df_calls_sum.head(10)"
   ]
  },
  {
   "cell_type": "code",
   "execution_count": 77,
   "id": "aba077a1",
   "metadata": {},
   "outputs": [],
   "source": [
    "#сумма мб и сессий по месяцам для каждого пользователя\n",
    "df_internet_sum = df_internet.pivot_table(index=['user_id', 'month'],aggfunc={'session_date':'count', 'mb_used':sum})\n",
    "df_internet_sum.columns = ['mb_used_sum', 'session_sum']\n",
    "#df_internet_sum.head(10)"
   ]
  },
  {
   "cell_type": "code",
   "execution_count": 78,
   "id": "ea3b52aa",
   "metadata": {},
   "outputs": [],
   "source": [
    "#сумма сообщений по месяцам для каждого пользователя\n",
    "df_messages_sum = df_messages.pivot_table(index=['user_id', 'month'], aggfunc={'id':'count'})\n",
    "df_messages_sum.columns = ['message_sum']\n",
    "#df_messages_sum.head(10)"
   ]
  },
  {
   "cell_type": "markdown",
   "id": "115edf90",
   "metadata": {},
   "source": [
    "**Исправил строки с датами на правильный тип данных, удалил не нужный столбец, округлил минуты, выделил столбец суммами минут, сообщений и траффика по месяцам**"
   ]
  },
  {
   "cell_type": "code",
   "execution_count": 79,
   "id": "62793ae4",
   "metadata": {},
   "outputs": [],
   "source": [
    "df_sum = df_internet_sum.join([df_messages_sum, df_calls_sum], how=\"outer\").reset_index(level='month')\n",
    "#df_sum.head()\n",
    "#df_sum.info()"
   ]
  },
  {
   "cell_type": "code",
   "execution_count": 80,
   "id": "c07a7d5b",
   "metadata": {},
   "outputs": [
    {
     "name": "stdout",
     "output_type": "stream",
     "text": [
      "<class 'pandas.core.frame.DataFrame'>\n",
      "Int64Index: 3214 entries, 1000 to 1499\n",
      "Data columns (total 6 columns):\n",
      " #   Column       Non-Null Count  Dtype  \n",
      "---  ------       --------------  -----  \n",
      " 0   month        3214 non-null   int64  \n",
      " 1   mb_used_sum  3214 non-null   float64\n",
      " 2   session_sum  3214 non-null   float64\n",
      " 3   message_sum  3214 non-null   float64\n",
      " 4   calls_sum    3214 non-null   float64\n",
      " 5   minutes_sum  3214 non-null   float64\n",
      "dtypes: float64(5), int64(1)\n",
      "memory usage: 175.8 KB\n"
     ]
    }
   ],
   "source": [
    "df_sum['mb_used_sum'] = df_sum['mb_used_sum'].fillna(0)\n",
    "df_sum['calls_sum'] = df_sum['calls_sum'].fillna(0)\n",
    "df_sum['minutes_sum'] = df_sum['minutes_sum'].fillna(0)\n",
    "df_sum['message_sum'] = df_sum['message_sum'].fillna(0)\n",
    "df_sum['session_sum'] = df_sum['session_sum'].fillna(0)\n",
    "#заменяем пропуски нулями\n",
    "df_sum.info()"
   ]
  },
  {
   "cell_type": "code",
   "execution_count": 81,
   "id": "805275c1",
   "metadata": {},
   "outputs": [],
   "source": [
    "df_sum = df_sum.drop('session_sum', axis=1)"
   ]
  },
  {
   "cell_type": "code",
   "execution_count": 82,
   "id": "4a9bd0e4",
   "metadata": {},
   "outputs": [],
   "source": [
    "df = df_users.merge(df_sum, on='user_id', how='right')"
   ]
  },
  {
   "cell_type": "code",
   "execution_count": 83,
   "id": "94f90592",
   "metadata": {},
   "outputs": [],
   "source": [
    "df_month_income = df.drop(['age', 'churn_date', 'first_name', 'last_name', 'reg_date'], axis='columns')\n",
    "#убираем лишние столбцы"
   ]
  },
  {
   "cell_type": "code",
   "execution_count": 84,
   "id": "e0422b89",
   "metadata": {},
   "outputs": [],
   "source": [
    "df_month_income['mb_used_sum'] = df_month_income['mb_used_sum'] / 1024\n",
    "#меняем мб на гб"
   ]
  },
  {
   "cell_type": "code",
   "execution_count": 85,
   "id": "ba01d9b1",
   "metadata": {},
   "outputs": [],
   "source": [
    "df_month_income['mb_used_sum'] = np.ceil(df_month_income['mb_used_sum'])\n",
    "#округляем в большую сторону по условиям тарифов"
   ]
  },
  {
   "cell_type": "code",
   "execution_count": 86,
   "id": "47658159",
   "metadata": {},
   "outputs": [],
   "source": [
    "df_month_income = df_month_income.rename(columns={'mb_used_sum' : 'gb_used_sum'})"
   ]
  },
  {
   "cell_type": "code",
   "execution_count": 87,
   "id": "b94450ac",
   "metadata": {},
   "outputs": [],
   "source": [
    "#добавим тарифы\n",
    "df_tariffs = df_tariffs.rename(columns={'tariff_name' : 'tariff'})"
   ]
  },
  {
   "cell_type": "code",
   "execution_count": 88,
   "id": "50118360",
   "metadata": {},
   "outputs": [],
   "source": [
    "df_month_income = df_month_income.merge(df_tariffs, on='tariff')"
   ]
  },
  {
   "cell_type": "code",
   "execution_count": 89,
   "id": "3bf811c3",
   "metadata": {},
   "outputs": [],
   "source": [
    "df_month_income = df_month_income.rename(columns={'mb_per_month_included' : 'gb_per_month_included'})"
   ]
  },
  {
   "cell_type": "code",
   "execution_count": 90,
   "id": "6e075f33",
   "metadata": {},
   "outputs": [],
   "source": [
    "df_month_income['gb_per_month_included'] = df_month_income['gb_per_month_included'] / 1024\n",
    "#меняем мб на гб"
   ]
  },
  {
   "cell_type": "code",
   "execution_count": 91,
   "id": "feec03eb",
   "metadata": {},
   "outputs": [],
   "source": [
    "df_month_income = df_month_income.astype({'message_sum': np.int64, 'gb_used_sum': np.int64, \n",
    "                'calls_sum': np.int64, 'minutes_sum': np.int64, 'gb_per_month_included': np.int64})\n",
    "#df_month_income"
   ]
  },
  {
   "cell_type": "markdown",
   "id": "403a0d4c",
   "metadata": {},
   "source": [
    "**Таблица с помесячной выручкой с каждого пользователя**"
   ]
  },
  {
   "cell_type": "code",
   "execution_count": 92,
   "id": "4bb6f136",
   "metadata": {},
   "outputs": [],
   "source": [
    "#функция для подсчетов суммы к оплате каждый месяц для клиентов \n",
    "#с учетом перерасходов услуг сверх включенных в тариф\n",
    "def income_per_month(row):\n",
    "    \n",
    "    overlimit_min = 0\n",
    "    overlimit_message = 0\n",
    "    overlimit_gb = 0\n",
    "    tarrif_cost = row['rub_monthly_fee']\n",
    "    message_sum = row['message_sum']\n",
    "    gb_used_sum = row['gb_used_sum']\n",
    "    minutes_sum = row['minutes_sum']\n",
    "    messages_included = row['messages_included']\n",
    "    gb_per_month_included = row['gb_per_month_included']\n",
    "    minutes_included = row['minutes_included']\n",
    "    rub_monthly_fee = row['rub_monthly_fee']\n",
    "    rub_per_gb = row['rub_per_gb']\n",
    "    rub_per_message = row['rub_per_message']\n",
    "    rub_per_minute = row['rub_per_minute']\n",
    "    \n",
    "    if message_sum > messages_included:\n",
    "        overlimit_message += (message_sum - messages_included) * rub_per_message\n",
    "    if gb_used_sum > gb_per_month_included:\n",
    "        overlimit_gb += (gb_used_sum - gb_per_month_included) * rub_per_gb\n",
    "    if minutes_sum > minutes_included:\n",
    "        overlimit_message += (minutes_sum - minutes_included) * rub_per_minute\n",
    "    return overlimit_message + overlimit_min + overlimit_gb + tarrif_cost\n",
    "\n",
    "df_month_income['total_income'] = df_month_income.apply(income_per_month, axis=1)\n",
    "#добавляем столбец в таблицу с итогами"
   ]
  },
  {
   "cell_type": "code",
   "execution_count": 93,
   "id": "19a46fa4",
   "metadata": {},
   "outputs": [],
   "source": [
    "#проверяем\n",
    "#df_month_income"
   ]
  },
  {
   "cell_type": "markdown",
   "id": "85248f09",
   "metadata": {},
   "source": [
    "### **Шаг 3. Проанализируем данные Опишем поведение клиентов оператора, исходя из выборки**"
   ]
  },
  {
   "cell_type": "code",
   "execution_count": 94,
   "id": "d8ab5588",
   "metadata": {
    "scrolled": true
   },
   "outputs": [
    {
     "data": {
      "text/html": [
       "<div>\n",
       "<style scoped>\n",
       "    .dataframe tbody tr th:only-of-type {\n",
       "        vertical-align: middle;\n",
       "    }\n",
       "\n",
       "    .dataframe tbody tr th {\n",
       "        vertical-align: top;\n",
       "    }\n",
       "\n",
       "    .dataframe thead th {\n",
       "        text-align: right;\n",
       "    }\n",
       "</style>\n",
       "<table border=\"1\" class=\"dataframe\">\n",
       "  <thead>\n",
       "    <tr style=\"text-align: right;\">\n",
       "      <th></th>\n",
       "      <th>month</th>\n",
       "      <th>user_id</th>\n",
       "      <th>calls_sum</th>\n",
       "      <th>gb_used_sum</th>\n",
       "      <th>message_sum</th>\n",
       "      <th>minutes_sum</th>\n",
       "      <th>total_income</th>\n",
       "    </tr>\n",
       "    <tr>\n",
       "      <th>tariff</th>\n",
       "      <th></th>\n",
       "      <th></th>\n",
       "      <th></th>\n",
       "      <th></th>\n",
       "      <th></th>\n",
       "      <th></th>\n",
       "      <th></th>\n",
       "    </tr>\n",
       "  </thead>\n",
       "  <tbody>\n",
       "    <tr>\n",
       "      <th>smart</th>\n",
       "      <td>1</td>\n",
       "      <td>34</td>\n",
       "      <td>941</td>\n",
       "      <td>297</td>\n",
       "      <td>620</td>\n",
       "      <td>6931</td>\n",
       "      <td>24525</td>\n",
       "    </tr>\n",
       "    <tr>\n",
       "      <th>smart</th>\n",
       "      <td>2</td>\n",
       "      <td>58</td>\n",
       "      <td>2331</td>\n",
       "      <td>687</td>\n",
       "      <td>1397</td>\n",
       "      <td>17324</td>\n",
       "      <td>48001</td>\n",
       "    </tr>\n",
       "    <tr>\n",
       "      <th>smart</th>\n",
       "      <td>3</td>\n",
       "      <td>77</td>\n",
       "      <td>4183</td>\n",
       "      <td>1173</td>\n",
       "      <td>2453</td>\n",
       "      <td>30034</td>\n",
       "      <td>89676</td>\n",
       "    </tr>\n",
       "    <tr>\n",
       "      <th>smart</th>\n",
       "      <td>4</td>\n",
       "      <td>112</td>\n",
       "      <td>5747</td>\n",
       "      <td>1526</td>\n",
       "      <td>3443</td>\n",
       "      <td>41119</td>\n",
       "      <td>107866</td>\n",
       "    </tr>\n",
       "    <tr>\n",
       "      <th>smart</th>\n",
       "      <td>5</td>\n",
       "      <td>141</td>\n",
       "      <td>7789</td>\n",
       "      <td>2243</td>\n",
       "      <td>4762</td>\n",
       "      <td>54618</td>\n",
       "      <td>168849</td>\n",
       "    </tr>\n",
       "    <tr>\n",
       "      <th>smart</th>\n",
       "      <td>6</td>\n",
       "      <td>164</td>\n",
       "      <td>9110</td>\n",
       "      <td>2616</td>\n",
       "      <td>5478</td>\n",
       "      <td>64885</td>\n",
       "      <td>197459</td>\n",
       "    </tr>\n",
       "    <tr>\n",
       "      <th>smart</th>\n",
       "      <td>7</td>\n",
       "      <td>201</td>\n",
       "      <td>11402</td>\n",
       "      <td>3191</td>\n",
       "      <td>6784</td>\n",
       "      <td>82079</td>\n",
       "      <td>246014</td>\n",
       "    </tr>\n",
       "    <tr>\n",
       "      <th>smart</th>\n",
       "      <td>8</td>\n",
       "      <td>235</td>\n",
       "      <td>13860</td>\n",
       "      <td>3933</td>\n",
       "      <td>7905</td>\n",
       "      <td>99045</td>\n",
       "      <td>310340</td>\n",
       "    </tr>\n",
       "    <tr>\n",
       "      <th>smart</th>\n",
       "      <td>9</td>\n",
       "      <td>260</td>\n",
       "      <td>15482</td>\n",
       "      <td>4262</td>\n",
       "      <td>8746</td>\n",
       "      <td>111439</td>\n",
       "      <td>324986</td>\n",
       "    </tr>\n",
       "    <tr>\n",
       "      <th>smart</th>\n",
       "      <td>10</td>\n",
       "      <td>294</td>\n",
       "      <td>17629</td>\n",
       "      <td>4963</td>\n",
       "      <td>9927</td>\n",
       "      <td>125284</td>\n",
       "      <td>401267</td>\n",
       "    </tr>\n",
       "    <tr>\n",
       "      <th>smart</th>\n",
       "      <td>11</td>\n",
       "      <td>316</td>\n",
       "      <td>19435</td>\n",
       "      <td>5372</td>\n",
       "      <td>10768</td>\n",
       "      <td>137544</td>\n",
       "      <td>424403</td>\n",
       "    </tr>\n",
       "    <tr>\n",
       "      <th>smart</th>\n",
       "      <td>12</td>\n",
       "      <td>337</td>\n",
       "      <td>22406</td>\n",
       "      <td>6134</td>\n",
       "      <td>12130</td>\n",
       "      <td>161275</td>\n",
       "      <td>531965</td>\n",
       "    </tr>\n",
       "    <tr>\n",
       "      <th>ultra</th>\n",
       "      <td>1</td>\n",
       "      <td>9</td>\n",
       "      <td>535</td>\n",
       "      <td>119</td>\n",
       "      <td>304</td>\n",
       "      <td>3853</td>\n",
       "      <td>17550</td>\n",
       "    </tr>\n",
       "    <tr>\n",
       "      <th>ultra</th>\n",
       "      <td>2</td>\n",
       "      <td>24</td>\n",
       "      <td>997</td>\n",
       "      <td>288</td>\n",
       "      <td>527</td>\n",
       "      <td>7131</td>\n",
       "      <td>47400</td>\n",
       "    </tr>\n",
       "    <tr>\n",
       "      <th>ultra</th>\n",
       "      <td>3</td>\n",
       "      <td>37</td>\n",
       "      <td>2504</td>\n",
       "      <td>653</td>\n",
       "      <td>1195</td>\n",
       "      <td>18117</td>\n",
       "      <td>74550</td>\n",
       "    </tr>\n",
       "    <tr>\n",
       "      <th>ultra</th>\n",
       "      <td>4</td>\n",
       "      <td>55</td>\n",
       "      <td>3525</td>\n",
       "      <td>933</td>\n",
       "      <td>1736</td>\n",
       "      <td>25191</td>\n",
       "      <td>110100</td>\n",
       "    </tr>\n",
       "    <tr>\n",
       "      <th>ultra</th>\n",
       "      <td>5</td>\n",
       "      <td>67</td>\n",
       "      <td>4858</td>\n",
       "      <td>1298</td>\n",
       "      <td>2536</td>\n",
       "      <td>34192</td>\n",
       "      <td>138000</td>\n",
       "    </tr>\n",
       "    <tr>\n",
       "      <th>ultra</th>\n",
       "      <td>6</td>\n",
       "      <td>84</td>\n",
       "      <td>5606</td>\n",
       "      <td>1591</td>\n",
       "      <td>3505</td>\n",
       "      <td>40295</td>\n",
       "      <td>171300</td>\n",
       "    </tr>\n",
       "    <tr>\n",
       "      <th>ultra</th>\n",
       "      <td>7</td>\n",
       "      <td>91</td>\n",
       "      <td>6896</td>\n",
       "      <td>1866</td>\n",
       "      <td>4536</td>\n",
       "      <td>49667</td>\n",
       "      <td>192750</td>\n",
       "    </tr>\n",
       "    <tr>\n",
       "      <th>ultra</th>\n",
       "      <td>8</td>\n",
       "      <td>107</td>\n",
       "      <td>7628</td>\n",
       "      <td>2097</td>\n",
       "      <td>5183</td>\n",
       "      <td>54653</td>\n",
       "      <td>222900</td>\n",
       "    </tr>\n",
       "    <tr>\n",
       "      <th>ultra</th>\n",
       "      <td>9</td>\n",
       "      <td>115</td>\n",
       "      <td>8579</td>\n",
       "      <td>2213</td>\n",
       "      <td>6013</td>\n",
       "      <td>62036</td>\n",
       "      <td>232800</td>\n",
       "    </tr>\n",
       "    <tr>\n",
       "      <th>ultra</th>\n",
       "      <td>10</td>\n",
       "      <td>123</td>\n",
       "      <td>9517</td>\n",
       "      <td>2468</td>\n",
       "      <td>7187</td>\n",
       "      <td>68644</td>\n",
       "      <td>254100</td>\n",
       "    </tr>\n",
       "    <tr>\n",
       "      <th>ultra</th>\n",
       "      <td>11</td>\n",
       "      <td>134</td>\n",
       "      <td>10066</td>\n",
       "      <td>2654</td>\n",
       "      <td>7476</td>\n",
       "      <td>72545</td>\n",
       "      <td>280350</td>\n",
       "    </tr>\n",
       "    <tr>\n",
       "      <th>ultra</th>\n",
       "      <td>12</td>\n",
       "      <td>139</td>\n",
       "      <td>11581</td>\n",
       "      <td>3022</td>\n",
       "      <td>8425</td>\n",
       "      <td>82400</td>\n",
       "      <td>297300</td>\n",
       "    </tr>\n",
       "  </tbody>\n",
       "</table>\n",
       "</div>"
      ],
      "text/plain": [
       "        month  user_id  calls_sum  gb_used_sum  message_sum  minutes_sum  \\\n",
       "tariff                                                                     \n",
       "smart       1       34        941          297          620         6931   \n",
       "smart       2       58       2331          687         1397        17324   \n",
       "smart       3       77       4183         1173         2453        30034   \n",
       "smart       4      112       5747         1526         3443        41119   \n",
       "smart       5      141       7789         2243         4762        54618   \n",
       "smart       6      164       9110         2616         5478        64885   \n",
       "smart       7      201      11402         3191         6784        82079   \n",
       "smart       8      235      13860         3933         7905        99045   \n",
       "smart       9      260      15482         4262         8746       111439   \n",
       "smart      10      294      17629         4963         9927       125284   \n",
       "smart      11      316      19435         5372        10768       137544   \n",
       "smart      12      337      22406         6134        12130       161275   \n",
       "ultra       1        9        535          119          304         3853   \n",
       "ultra       2       24        997          288          527         7131   \n",
       "ultra       3       37       2504          653         1195        18117   \n",
       "ultra       4       55       3525          933         1736        25191   \n",
       "ultra       5       67       4858         1298         2536        34192   \n",
       "ultra       6       84       5606         1591         3505        40295   \n",
       "ultra       7       91       6896         1866         4536        49667   \n",
       "ultra       8      107       7628         2097         5183        54653   \n",
       "ultra       9      115       8579         2213         6013        62036   \n",
       "ultra      10      123       9517         2468         7187        68644   \n",
       "ultra      11      134      10066         2654         7476        72545   \n",
       "ultra      12      139      11581         3022         8425        82400   \n",
       "\n",
       "        total_income  \n",
       "tariff                \n",
       "smart          24525  \n",
       "smart          48001  \n",
       "smart          89676  \n",
       "smart         107866  \n",
       "smart         168849  \n",
       "smart         197459  \n",
       "smart         246014  \n",
       "smart         310340  \n",
       "smart         324986  \n",
       "smart         401267  \n",
       "smart         424403  \n",
       "smart         531965  \n",
       "ultra          17550  \n",
       "ultra          47400  \n",
       "ultra          74550  \n",
       "ultra         110100  \n",
       "ultra         138000  \n",
       "ultra         171300  \n",
       "ultra         192750  \n",
       "ultra         222900  \n",
       "ultra         232800  \n",
       "ultra         254100  \n",
       "ultra         280350  \n",
       "ultra         297300  "
      ]
     },
     "execution_count": 94,
     "metadata": {},
     "output_type": "execute_result"
    }
   ],
   "source": [
    "#Таблица с суммами использованных и оплаченных услуг по месяцам для каждого тарифа\n",
    "df_month_income_sum = (df_month_income\n",
    "                .pivot_table(index=['tariff', 'month'],\n",
    "                             values=['message_sum', 'calls_sum', 'gb_used_sum', 'minutes_sum', 'total_income'],\n",
    "                             aggfunc = np.sum))\n",
    "\n",
    "df_month_income_sum = df_month_income_sum.reset_index(level='month')\n",
    "\n",
    "df_month_income_users = (df_month_income\n",
    "                .pivot_table(index=['tariff', 'month'],\n",
    "                             values=['user_id'],\n",
    "                             aggfunc = \"count\"))\n",
    "df_month_income_users = df_month_income_users.reset_index(level='month')\n",
    "\n",
    "df_month_income_sum = df_month_income_users.merge(df_month_income_sum, on=['tariff', 'month'])\n",
    "df_month_income_sum"
   ]
  },
  {
   "cell_type": "markdown",
   "id": "0e60145d",
   "metadata": {},
   "source": [
    "**При усредненном анализе используемых услуг в течении года по месяцам:**\n",
    "\n",
    "*Использую среднее, так как на сумме показателей по месяцам на так очевидны различия между тарифами из-за различия лимитов*\n",
    "\n",
    "*На тарифе СМАРТ*\n",
    "\n",
    "- заметен рост колличества сообщений, минут звонков, количества звонков, траффика и стоимости услуг в течении года от января к декабрю в связи с ростом колличества абонентов.\n",
    "\n",
    "*На тарифе УЛЬТРА*\n",
    "\n",
    "- явного увеличения использования услуг не наблюдается. Колличество абонентов растет медленно."
   ]
  },
  {
   "cell_type": "code",
   "execution_count": 95,
   "id": "a53f83ca",
   "metadata": {},
   "outputs": [
    {
     "data": {
      "text/html": [
       "<div>\n",
       "<style scoped>\n",
       "    .dataframe tbody tr th:only-of-type {\n",
       "        vertical-align: middle;\n",
       "    }\n",
       "\n",
       "    .dataframe tbody tr th {\n",
       "        vertical-align: top;\n",
       "    }\n",
       "\n",
       "    .dataframe thead th {\n",
       "        text-align: right;\n",
       "    }\n",
       "</style>\n",
       "<table border=\"1\" class=\"dataframe\">\n",
       "  <thead>\n",
       "    <tr style=\"text-align: right;\">\n",
       "      <th></th>\n",
       "      <th>calls_sum</th>\n",
       "      <th>gb_used_sum</th>\n",
       "      <th>message_sum</th>\n",
       "      <th>minutes_sum</th>\n",
       "      <th>total_income</th>\n",
       "      <th>user_id</th>\n",
       "    </tr>\n",
       "    <tr>\n",
       "      <th>tariff</th>\n",
       "      <th></th>\n",
       "      <th></th>\n",
       "      <th></th>\n",
       "      <th></th>\n",
       "      <th></th>\n",
       "      <th></th>\n",
       "    </tr>\n",
       "  </thead>\n",
       "  <tbody>\n",
       "    <tr>\n",
       "      <th>smart</th>\n",
       "      <td>58.463437</td>\n",
       "      <td>16.328847</td>\n",
       "      <td>33.384029</td>\n",
       "      <td>417.934948</td>\n",
       "      <td>1289.973531</td>\n",
       "      <td>2229</td>\n",
       "    </tr>\n",
       "    <tr>\n",
       "      <th>ultra</th>\n",
       "      <td>73.392893</td>\n",
       "      <td>19.494416</td>\n",
       "      <td>49.363452</td>\n",
       "      <td>526.623350</td>\n",
       "      <td>2070.152284</td>\n",
       "      <td>985</td>\n",
       "    </tr>\n",
       "  </tbody>\n",
       "</table>\n",
       "</div>"
      ],
      "text/plain": [
       "        calls_sum  gb_used_sum  message_sum  minutes_sum  total_income  \\\n",
       "tariff                                                                   \n",
       "smart   58.463437    16.328847    33.384029   417.934948   1289.973531   \n",
       "ultra   73.392893    19.494416    49.363452   526.623350   2070.152284   \n",
       "\n",
       "        user_id  \n",
       "tariff           \n",
       "smart      2229  \n",
       "ultra       985  "
      ]
     },
     "execution_count": 95,
     "metadata": {},
     "output_type": "execute_result"
    }
   ],
   "source": [
    "df_month_income_mean = df_month_income.pivot_table(index=['tariff'],aggfunc={'message_sum':'mean',\n",
    "                                                                             'calls_sum':'mean',\n",
    "                                                                            'gb_used_sum':'mean',\n",
    "                                                                            'minutes_sum':'mean',\n",
    "                                                                            'user_id':'count',\n",
    "                                                                            'total_income':'mean'})\n",
    "df_month_income_mean\n",
    "\n",
    "#видно, что в среднем на тарифе \"смарт\" пользователи не превышают лимиты и платят меньше, \n",
    "#при том что стоимость абонентской платы выше почти в 4 раза\n",
    "#а на тарифе \"ультра\" превышают и платят за это, в среднем больше, из-за высокой стоимости услуг сверх лимита"
   ]
  },
  {
   "cell_type": "code",
   "execution_count": 96,
   "id": "eaa246b6",
   "metadata": {},
   "outputs": [],
   "source": [
    "df_ultra = df_month_income.query('tariff == \"ultra\"')\n",
    "df_ultra = df_ultra.drop(['messages_included',\n",
    "                          'gb_per_month_included',\n",
    "                          'minutes_included',\n",
    "                          'rub_monthly_fee',\n",
    "                          'rub_per_gb','rub_per_message','rub_per_minute'], axis='columns')\n",
    "#df_ultra.describe()"
   ]
  },
  {
   "cell_type": "code",
   "execution_count": 97,
   "id": "d2653820",
   "metadata": {},
   "outputs": [],
   "source": [
    "df_smart = df_month_income.query('tariff == \"smart\"')\n",
    "df_smart = df_smart.drop(['messages_included',\n",
    "                          'gb_per_month_included',\n",
    "                          'minutes_included',\n",
    "                          'rub_monthly_fee',\n",
    "                         'rub_per_gb','rub_per_message','rub_per_minute'], axis='columns')\n",
    "#df_smart.describe()"
   ]
  },
  {
   "cell_type": "code",
   "execution_count": 98,
   "id": "848bee12",
   "metadata": {},
   "outputs": [
    {
     "data": {
      "text/html": [
       "<div>\n",
       "<style scoped>\n",
       "    .dataframe tbody tr th:only-of-type {\n",
       "        vertical-align: middle;\n",
       "    }\n",
       "\n",
       "    .dataframe tbody tr th {\n",
       "        vertical-align: top;\n",
       "    }\n",
       "\n",
       "    .dataframe thead th {\n",
       "        text-align: right;\n",
       "    }\n",
       "</style>\n",
       "<table border=\"1\" class=\"dataframe\">\n",
       "  <thead>\n",
       "    <tr style=\"text-align: right;\">\n",
       "      <th></th>\n",
       "      <th>calls_sum</th>\n",
       "      <th>gb_used_sum</th>\n",
       "      <th>message_sum</th>\n",
       "      <th>minutes_sum</th>\n",
       "      <th>total_income</th>\n",
       "      <th>user_id</th>\n",
       "    </tr>\n",
       "    <tr>\n",
       "      <th>tariff</th>\n",
       "      <th></th>\n",
       "      <th></th>\n",
       "      <th></th>\n",
       "      <th></th>\n",
       "      <th></th>\n",
       "      <th></th>\n",
       "    </tr>\n",
       "  </thead>\n",
       "  <tbody>\n",
       "    <tr>\n",
       "      <th>smart</th>\n",
       "      <td>672.876243</td>\n",
       "      <td>33.028705</td>\n",
       "      <td>796.812958</td>\n",
       "      <td>36219.315784</td>\n",
       "      <td>669785.708006</td>\n",
       "      <td>2229</td>\n",
       "    </tr>\n",
       "    <tr>\n",
       "      <th>ultra</th>\n",
       "      <td>1928.689990</td>\n",
       "      <td>97.091686</td>\n",
       "      <td>2285.266143</td>\n",
       "      <td>100873.633397</td>\n",
       "      <td>141516.745079</td>\n",
       "      <td>985</td>\n",
       "    </tr>\n",
       "  </tbody>\n",
       "</table>\n",
       "</div>"
      ],
      "text/plain": [
       "          calls_sum  gb_used_sum  message_sum    minutes_sum   total_income  \\\n",
       "tariff                                                                        \n",
       "smart    672.876243    33.028705   796.812958   36219.315784  669785.708006   \n",
       "ultra   1928.689990    97.091686  2285.266143  100873.633397  141516.745079   \n",
       "\n",
       "        user_id  \n",
       "tariff           \n",
       "smart      2229  \n",
       "ultra       985  "
      ]
     },
     "execution_count": 98,
     "metadata": {},
     "output_type": "execute_result"
    }
   ],
   "source": [
    "df_month_income_var = df_month_income.pivot_table(index=['tariff'],aggfunc={'message_sum':np.var,\n",
    "                                                                             'calls_sum':np.var,\n",
    "                                                                            'gb_used_sum':np.var,\n",
    "                                                                            'minutes_sum':np.var,\n",
    "                                                                            'user_id':'count',\n",
    "                                                                            'total_income':np.var})\n",
    "df_month_income_var\n",
    "\n",
    "#дисперсия"
   ]
  },
  {
   "cell_type": "code",
   "execution_count": 99,
   "id": "7f1db108",
   "metadata": {},
   "outputs": [
    {
     "data": {
      "text/html": [
       "<div>\n",
       "<style scoped>\n",
       "    .dataframe tbody tr th:only-of-type {\n",
       "        vertical-align: middle;\n",
       "    }\n",
       "\n",
       "    .dataframe tbody tr th {\n",
       "        vertical-align: top;\n",
       "    }\n",
       "\n",
       "    .dataframe thead th {\n",
       "        text-align: right;\n",
       "    }\n",
       "</style>\n",
       "<table border=\"1\" class=\"dataframe\">\n",
       "  <thead>\n",
       "    <tr style=\"text-align: right;\">\n",
       "      <th></th>\n",
       "      <th>calls_sum</th>\n",
       "      <th>gb_used_sum</th>\n",
       "      <th>message_sum</th>\n",
       "      <th>minutes_sum</th>\n",
       "      <th>total_income</th>\n",
       "      <th>user_id</th>\n",
       "    </tr>\n",
       "    <tr>\n",
       "      <th>tariff</th>\n",
       "      <th></th>\n",
       "      <th></th>\n",
       "      <th></th>\n",
       "      <th></th>\n",
       "      <th></th>\n",
       "      <th></th>\n",
       "    </tr>\n",
       "  </thead>\n",
       "  <tbody>\n",
       "    <tr>\n",
       "      <th>smart</th>\n",
       "      <td>25.939858</td>\n",
       "      <td>5.747061</td>\n",
       "      <td>28.227876</td>\n",
       "      <td>190.313730</td>\n",
       "      <td>818.404367</td>\n",
       "      <td>2229</td>\n",
       "    </tr>\n",
       "    <tr>\n",
       "      <th>ultra</th>\n",
       "      <td>43.916853</td>\n",
       "      <td>9.853511</td>\n",
       "      <td>47.804457</td>\n",
       "      <td>317.606098</td>\n",
       "      <td>376.187114</td>\n",
       "      <td>985</td>\n",
       "    </tr>\n",
       "  </tbody>\n",
       "</table>\n",
       "</div>"
      ],
      "text/plain": [
       "        calls_sum  gb_used_sum  message_sum  minutes_sum  total_income  \\\n",
       "tariff                                                                   \n",
       "smart   25.939858     5.747061    28.227876   190.313730    818.404367   \n",
       "ultra   43.916853     9.853511    47.804457   317.606098    376.187114   \n",
       "\n",
       "        user_id  \n",
       "tariff           \n",
       "smart      2229  \n",
       "ultra       985  "
      ]
     },
     "execution_count": 99,
     "metadata": {},
     "output_type": "execute_result"
    }
   ],
   "source": [
    "df_month_income_std = df_month_income.pivot_table(index=['tariff'],aggfunc={'message_sum':np.std,\n",
    "                                                                             'calls_sum':np.std,\n",
    "                                                                            'gb_used_sum':np.std,\n",
    "                                                                            'minutes_sum':np.std,\n",
    "                                                                            'user_id':'count',\n",
    "                                                                            'total_income':np.std})\n",
    "df_month_income_std\n",
    "\n",
    "#стандартное отклонение"
   ]
  },
  {
   "cell_type": "code",
   "execution_count": 100,
   "id": "5f613b81",
   "metadata": {},
   "outputs": [
    {
     "data": {
      "image/png": "[encoded data removed]",
      "text/plain": [
       "<Figure size 432x288 with 1 Axes>"
      ]
     },
     "metadata": {},
     "output_type": "display_data"
    }
   ],
   "source": [
    "sns.set_style(\"whitegrid\")\n",
    "ax = sns.lineplot(data=df_smart, x=\"month\", y=\"total_income\", label='SMART')\n",
    "sns.lineplot(data=df_ultra, x=\"month\", y=\"total_income\", label='ULTRA')\n",
    "plt.title(\"Распредение абонентской в месяц по тарифам\")\n",
    "plt.show()"
   ]
  },
  {
   "cell_type": "code",
   "execution_count": 101,
   "id": "edf6463f",
   "metadata": {},
   "outputs": [
    {
     "data": {
      "image/png": "[encoded data removed]",
      "text/plain": [
       "<Figure size 432x288 with 1 Axes>"
      ]
     },
     "metadata": {},
     "output_type": "display_data"
    }
   ],
   "source": [
    "sns.set_style(\"whitegrid\")\n",
    "ax = sns.lineplot(data=df_smart, x=\"month\", y=\"gb_used_sum\", label='SMART')\n",
    "sns.lineplot(data=df_ultra, x=\"month\", y=\"gb_used_sum\", label='ULTRA')\n",
    "plt.title(\"Распредение израсходованного трафика в месяц по тарифам\")\n",
    "plt.show()"
   ]
  },
  {
   "cell_type": "code",
   "execution_count": 118,
   "id": "4574368b",
   "metadata": {},
   "outputs": [
    {
     "data": {
      "image/png": "[encoded data removed]",
      "text/plain": [
       "<Figure size 432x288 with 1 Axes>"
      ]
     },
     "metadata": {},
     "output_type": "display_data"
    }
   ],
   "source": [
    "sns.set_style(\"whitegrid\")\n",
    "ax = sns.lineplot(data=df_smart, x=\"month\", y=\"minutes_sum\", label='SMART')\n",
    "sns.lineplot(data=df_ultra, x=\"month\", y=\"minutes_sum\", label='ULTRA')\n",
    "plt.title(\"Распредение израсходованных минут в месяц по тарифам\")\n",
    "plt.show()"
   ]
  },
  {
   "cell_type": "code",
   "execution_count": 104,
   "id": "bf51eb81",
   "metadata": {
    "scrolled": false
   },
   "outputs": [
    {
     "data": {
      "image/png": "[encoded data removed]",
      "text/plain": [
       "<Figure size 1152x504 with 1 Axes>"
      ]
     },
     "metadata": {},
     "output_type": "display_data"
    }
   ],
   "source": [
    "#сравнение по итоговой сумме к оплате по месяцая\n",
    "ax = df_smart.plot(kind='hist', y='total_income', histtype='step', bins=50, \n",
    "                     linewidth=5, alpha=0.5, label='SMART')\n",
    "df_ultra.plot(kind='hist', y='total_income', histtype='step', bins=50,\n",
    "linewidth=5, alpha=0.5, label='ULTRA', ax=ax, grid=True, legend=True, figsize=(16,7))\n",
    "plt.xlabel('Рубли')\n",
    "plt.ylabel('количество абонентов')\n",
    "plt.title(\"Распредение абонентской платы в месяц по тарифам\")\n",
    "plt.show()"
   ]
  },
  {
   "cell_type": "code",
   "execution_count": 105,
   "id": "9a543126",
   "metadata": {},
   "outputs": [
    {
     "data": {
      "image/png": "[encoded data removed]",
      "text/plain": [
       "<Figure size 1152x504 with 1 Axes>"
      ]
     },
     "metadata": {},
     "output_type": "display_data"
    }
   ],
   "source": [
    "#сравнение по использованным минутам с лимитами\n",
    "ax = df_smart.plot(kind='hist', y='minutes_sum', histtype='step', bins=50, \n",
    "                     linewidth=5, alpha=0.5,color='blue', label='SMART')\n",
    "\n",
    "df_ultra.plot(kind='hist', y='minutes_sum', histtype='step', bins=50,\n",
    "linewidth=5, alpha=0.5, label='ULTRA', ax=ax, grid=True, legend=True, color='orange', figsize=(16,7))\n",
    "\n",
    "ax.vlines(500, 0, 150, color='blue', alpha=0.3, linewidth=5, label='SMART LIM')\n",
    "ax.vlines(3000, 0, 150, color='orange',alpha=0.3, linewidth=5, label='SMART LIM')\n",
    "plt.xlabel('Минуты')\n",
    "plt.ylabel('количество абонентов')\n",
    "plt.title('Распредение суммы использованных минут в месяц\\n по тарифам (с лимитами)')\n",
    "plt.legend()\n",
    "plt.show()"
   ]
  },
  {
   "cell_type": "code",
   "execution_count": 106,
   "id": "6cf55d49",
   "metadata": {},
   "outputs": [
    {
     "data": {
      "image/png": "[encoded data removed]",
      "text/plain": [
       "<Figure size 1152x504 with 1 Axes>"
      ]
     },
     "metadata": {},
     "output_type": "display_data"
    }
   ],
   "source": [
    "#сравнение по траффику с лимитами\n",
    "ax = df_smart.plot(kind='hist', y='gb_used_sum', histtype='step', bins=50, \n",
    "                     linewidth=5, alpha=0.4, color='blue', label='SMART')\n",
    "\n",
    "df_ultra.plot(kind='hist', y='gb_used_sum', histtype='step', bins=50,\n",
    "linewidth=5, alpha=0.4, label='ULTRA', ax=ax, grid=True, legend=True, color='orange', figsize=(16,7))\n",
    "\n",
    "ax.vlines(15, 0, 180, color='blue', alpha=0.8, linewidth=5, label='SMART LIM')\n",
    "ax.vlines(30, 0, 180, color='orange',alpha=0.8, linewidth=5, label='ULTRA LIM')\n",
    "plt.xlabel('Гигабайты')\n",
    "plt.ylabel('количество абонентов')\n",
    "plt.title('Распредение суммы использованного трафика в месяц\\n по тарифам (с лимитами)')\n",
    "plt.legend()\n",
    "plt.show()"
   ]
  },
  {
   "cell_type": "code",
   "execution_count": 107,
   "id": "bec3349c",
   "metadata": {},
   "outputs": [
    {
     "data": {
      "image/png": "[encoded data removed]",
      "text/plain": [
       "<Figure size 1152x504 with 1 Axes>"
      ]
     },
     "metadata": {},
     "output_type": "display_data"
    }
   ],
   "source": [
    "#сравнение по сообщениям с лимитами\n",
    "ax = df_smart.plot(kind='hist', y='message_sum', histtype='step', bins=50, \n",
    "                     linewidth=5, alpha=0.4, label='SMART', color='blue')\n",
    "\n",
    "df_ultra.plot(kind='hist', y='message_sum', histtype='step', bins=50,\n",
    "linewidth=5, alpha=0.4, label='ULTRA', color='orange', ax=ax, grid=True, legend=True, figsize=(16,7))\n",
    "\n",
    "ax.vlines(50, 0, 400, color='blue', alpha=0.8, linewidth=5, label='SMART LIM')\n",
    "#ax.vlines(1000, 0, 100, color='orange',alpha=0.8, linewidth=5) \n",
    "#не влезает в график\n",
    "plt.xlabel('Сообщения')\n",
    "plt.ylabel('Количество абонентов')\n",
    "plt.title('Распредение суммы отправленных в месяц\\n по тарифам (с лимитами)')\n",
    "plt.legend()\n",
    "plt.show()"
   ]
  },
  {
   "cell_type": "markdown",
   "id": "d2653061",
   "metadata": {},
   "source": [
    "**Сравнение распределений по тарифам**"
   ]
  },
  {
   "cell_type": "markdown",
   "id": "9acb85dc",
   "metadata": {},
   "source": [
    "*СМАРТ - синий   /   УЛЬТРА - оранжевый*"
   ]
  },
  {
   "cell_type": "code",
   "execution_count": 125,
   "id": "e88b6f2c",
   "metadata": {
    "scrolled": false
   },
   "outputs": [
    {
     "name": "stderr",
     "output_type": "stream",
     "text": [
      "/Users/ikashkovskiy/opt/anaconda3/lib/python3.9/site-packages/seaborn/distributions.py:2619: FutureWarning: `distplot` is a deprecated function and will be removed in a future version. Please adapt your code to use either `displot` (a figure-level function with similar flexibility) or `histplot` (an axes-level function for histograms).\n",
      "  warnings.warn(msg, FutureWarning)\n",
      "/Users/ikashkovskiy/opt/anaconda3/lib/python3.9/site-packages/seaborn/distributions.py:2619: FutureWarning: `distplot` is a deprecated function and will be removed in a future version. Please adapt your code to use either `displot` (a figure-level function with similar flexibility) or `histplot` (an axes-level function for histograms).\n",
      "  warnings.warn(msg, FutureWarning)\n"
     ]
    },
    {
     "data": {
      "image/png": "[encoded data removed]",
      "text/plain": [
       "<Figure size 432x288 with 1 Axes>"
      ]
     },
     "metadata": {},
     "output_type": "display_data"
    }
   ],
   "source": [
    "фч = sns_plot = sns.distplot(df_smart['gb_used_sum'], label='SMART')\n",
    "fig = sns_plot.get_figure()\n",
    "sns_plot = sns.distplot(df_ultra['gb_used_sum'], label='ULTRA')\n",
    "fig = sns_plot.get_figure()\n",
    "plt.legend()\n",
    "plt.show()"
   ]
  },
  {
   "cell_type": "code",
   "execution_count": 128,
   "id": "1990bc60",
   "metadata": {
    "scrolled": false
   },
   "outputs": [
    {
     "name": "stderr",
     "output_type": "stream",
     "text": [
      "/Users/ikashkovskiy/opt/anaconda3/lib/python3.9/site-packages/seaborn/distributions.py:2619: FutureWarning: `distplot` is a deprecated function and will be removed in a future version. Please adapt your code to use either `displot` (a figure-level function with similar flexibility) or `histplot` (an axes-level function for histograms).\n",
      "  warnings.warn(msg, FutureWarning)\n",
      "/Users/ikashkovskiy/opt/anaconda3/lib/python3.9/site-packages/seaborn/distributions.py:2619: FutureWarning: `distplot` is a deprecated function and will be removed in a future version. Please adapt your code to use either `displot` (a figure-level function with similar flexibility) or `histplot` (an axes-level function for histograms).\n",
      "  warnings.warn(msg, FutureWarning)\n"
     ]
    },
    {
     "data": {
      "image/png": "[encoded data removed]",
      "text/plain": [
       "<Figure size 432x288 with 1 Axes>"
      ]
     },
     "metadata": {},
     "output_type": "display_data"
    }
   ],
   "source": [
    "ax = sns_plot = sns.distplot(df_smart['total_income'], label='SMART')\n",
    "fig = sns_plot.get_figure()\n",
    "sns_plot = sns.distplot(df_ultra['total_income'], label='ULTRA')\n",
    "fig = sns_plot.get_figure()\n",
    "plt.legend()\n",
    "plt.show()"
   ]
  },
  {
   "cell_type": "code",
   "execution_count": 129,
   "id": "327d9568",
   "metadata": {},
   "outputs": [
    {
     "name": "stderr",
     "output_type": "stream",
     "text": [
      "/Users/ikashkovskiy/opt/anaconda3/lib/python3.9/site-packages/seaborn/distributions.py:2619: FutureWarning: `distplot` is a deprecated function and will be removed in a future version. Please adapt your code to use either `displot` (a figure-level function with similar flexibility) or `histplot` (an axes-level function for histograms).\n",
      "  warnings.warn(msg, FutureWarning)\n",
      "/Users/ikashkovskiy/opt/anaconda3/lib/python3.9/site-packages/seaborn/distributions.py:2619: FutureWarning: `distplot` is a deprecated function and will be removed in a future version. Please adapt your code to use either `displot` (a figure-level function with similar flexibility) or `histplot` (an axes-level function for histograms).\n",
      "  warnings.warn(msg, FutureWarning)\n"
     ]
    },
    {
     "data": {
      "image/png": "[encoded data removed]",
      "text/plain": [
       "<Figure size 432x288 with 1 Axes>"
      ]
     },
     "metadata": {},
     "output_type": "display_data"
    }
   ],
   "source": [
    "ax = sns_plot = sns.distplot(df_smart['message_sum'], label='SMART')\n",
    "fig = sns_plot.get_figure()\n",
    "sns_plot = sns.distplot(df_ultra['message_sum'], label='ULTRA')\n",
    "fig = sns_plot.get_figure()\n",
    "plt.legend()\n",
    "plt.show()"
   ]
  },
  {
   "cell_type": "code",
   "execution_count": 130,
   "id": "3c70a555",
   "metadata": {
    "scrolled": false
   },
   "outputs": [
    {
     "name": "stderr",
     "output_type": "stream",
     "text": [
      "/Users/ikashkovskiy/opt/anaconda3/lib/python3.9/site-packages/seaborn/distributions.py:2619: FutureWarning: `distplot` is a deprecated function and will be removed in a future version. Please adapt your code to use either `displot` (a figure-level function with similar flexibility) or `histplot` (an axes-level function for histograms).\n",
      "  warnings.warn(msg, FutureWarning)\n",
      "/Users/ikashkovskiy/opt/anaconda3/lib/python3.9/site-packages/seaborn/distributions.py:2619: FutureWarning: `distplot` is a deprecated function and will be removed in a future version. Please adapt your code to use either `displot` (a figure-level function with similar flexibility) or `histplot` (an axes-level function for histograms).\n",
      "  warnings.warn(msg, FutureWarning)\n"
     ]
    },
    {
     "data": {
      "image/png": "[encoded data removed]",
      "text/plain": [
       "<Figure size 432x288 with 1 Axes>"
      ]
     },
     "metadata": {},
     "output_type": "display_data"
    }
   ],
   "source": [
    "ax = sns_plot = sns.distplot(df_smart['minutes_sum'], label='SMART')\n",
    "fig = sns_plot.get_figure()\n",
    "sns_plot = sns.distplot(df_ultra['minutes_sum'], label='ULTRA')\n",
    "fig = sns_plot.get_figure()\n",
    "plt.legend()\n",
    "plt.show()"
   ]
  },
  {
   "cell_type": "markdown",
   "id": "d40baebe",
   "metadata": {},
   "source": [
    "**Общее распределние - Нормальное**"
   ]
  },
  {
   "cell_type": "markdown",
   "id": "0aa9d4a7",
   "metadata": {},
   "source": [
    "#### ВЫВОД ПО ШАГУ 3\n",
    "**В выборке пользователей тарифа СМАРТ почти в 2.5 раза больше чем УЛЬТРА**\n",
    "Но, по средним показателям можно сказать что, пользователи СМАРТ чаше в среднем превышают лимиты тарифа и платят за это в среднем сумму сопоставимую с 2 абонентскими платами - 1256руб.\n",
    "\n",
    "С Тарифом УЛЬТРА ситуация другая, так как пользователи почти не превышают лимиты, то редко доплачивают за перерасход и в среднем платят в месяц 2047руб\n",
    "\n",
    "Так же из анализа данных можно сделать выводы\n",
    " - Пользователи УЛЬТРА в среднем больше пользуются услугами связи\n",
    " - Пользователи обоих тарифов отправялют мало сообщений\n",
    " - Пользователи УЛЬТРА перерасходуют только траффик, его не хватает на обоих тарифах\n",
    " - Распределние близко к нормальному \n",
    "\n"
   ]
  },
  {
   "cell_type": "markdown",
   "id": "80bf3374",
   "metadata": {},
   "source": [
    "#### Шаг 4. Проверяем гипотезы\n",
    "1. средняя выручка пользователей тарифов «Ультра» и «Смарт» различаются;\n",
    "2. средняя выручка пользователей из Москвы отличается от выручки пользователей из других регионов.\n"
   ]
  },
  {
   "cell_type": "markdown",
   "id": "ab4ac2e1",
   "metadata": {},
   "source": [
    "#### Гипотеза 1\n",
    "1. у качестве гипотезы Н0 выбераем утверждение, что средняя выручка пользователей тарифов «Ультра» и «Смарт» равны  в качестве гипотезы Н1 - утверждение, что средняя выручка пользователей тарифов «Ультра» и «Смарт» различаются.\n",
    "- Пороговое значение стандартное.\n",
    "2. Так как проверяем гипотезу о равенстве среднего двух неравных генеральных совокупностей, используем метод .ttest_ind() с условием equal_var=False"
   ]
  },
  {
   "cell_type": "code",
   "execution_count": 113,
   "id": "1ec4d9c5",
   "metadata": {},
   "outputs": [
    {
     "name": "stdout",
     "output_type": "stream",
     "text": [
      "p-значение: 4.2606313931076085e-250\n",
      "Средняя выручка пользователей тарифов «Ультра» и «Смарт» различаются\n"
     ]
    }
   ],
   "source": [
    "#Гипотеза 1. Средняя выручка пользователей тарифов «Ультра» и «Смарт» различаются \n",
    "# H0 - средние выручки равны, Н1 - средние выручки не равны\n",
    "\n",
    "smart_ttest = df_smart['total_income']\n",
    "\n",
    "ultra_ttest = df_ultra['total_income']\n",
    "\n",
    "alpha = .05\n",
    "\n",
    "results = st.ttest_ind(smart_ttest, ultra_ttest, equal_var=False)\n",
    "\n",
    "print('p-значение:', results.pvalue)\n",
    "\n",
    "if results.pvalue < alpha:\n",
    "    print(\"Средняя выручка пользователей тарифов «Ультра» и «Смарт» различаются\")\n",
    "else:\n",
    "    print(\"Средняя выручка пользователей тарифов «Ультра» и «Смарт» равны\")"
   ]
  },
  {
   "cell_type": "markdown",
   "id": "defdfde8",
   "metadata": {},
   "source": [
    "#### Гипотеза 2\n",
    "1. у качестве гипотезы Н0 выбераем утверждение, что средняя выручка пользователей из Москвы не отличается от выручки пользователей из других регионов,  в качестве гипотезы Н1 - утверждение, что средняя выручка пользователей из Москвы и пользователей из других регионов отличаются.\n",
    "- Пороговое значение стандартное.\n",
    "- Нужно создать таблицу с суммой всех платежей по каждому пользователю.\n",
    "2. Так как проверяем гипотезу о равенстве среднего двух неравных генеральных совокупностей, используем метод .ttest_ind() с условием equal_var=False"
   ]
  },
  {
   "cell_type": "code",
   "execution_count": 114,
   "id": "18d446ac",
   "metadata": {},
   "outputs": [
    {
     "name": "stdout",
     "output_type": "stream",
     "text": [
      "p-значение: [0.58647274]\n",
      "Средняя выручка пользователей из Москвы не отличается от выручки пользователей из других регионов\n"
     ]
    }
   ],
   "source": [
    "#Гипотеза 1. Средняя выручка пользователей из Москвы отличается от выручки пользователей из других регионов.\n",
    "# H0 - средние выручки равны, Н1 - средние выручки не равны\n",
    "\n",
    "#таблица с суммой всех платежей по каждому пользователю \n",
    "df_users_income = df_month_income.pivot_table(\n",
    "    index=['user_id', 'city'], \n",
    "    values='total_income',\n",
    "    aggfunc=['sum']).sort_values(('user_id'),ascending=True)\n",
    "\n",
    "moscow_ttest = df_users_income.query('city == \"Москва\"')\n",
    "\n",
    "regions_ttest = df_users_income.query('city != \"Москва\"')\n",
    "\n",
    "alpha = .05\n",
    "\n",
    "results = st.ttest_ind(moscow_ttest, regions_ttest, equal_var=False)\n",
    "\n",
    "print('p-значение:', results.pvalue)\n",
    "\n",
    "if results.pvalue < alpha:\n",
    "    print(\"Средняя выручка пользователей из Москвы и пользователей из других регионов отличаются\")\n",
    "else:\n",
    "    print(\"Средняя выручка пользователей из Москвы не отличается от выручки пользователей из других регионов\")"
   ]
  },
  {
   "cell_type": "markdown",
   "id": "4489dd1f",
   "metadata": {},
   "source": [
    "### **Вывод**"
   ]
  },
  {
   "cell_type": "markdown",
   "id": "db2045ec",
   "metadata": {},
   "source": [
    "Проведя анализ данных можно сделать следующие выводы:\n",
    "\n",
    "- Пользователи УЛЬТРА в среднем больше платят за услуги связи, по сравнению с пользователями СМАРТА - пости на 1/3\n",
    "- Пользователи УЛЬТРА практически не превышают лимитов тарифа, в отличие от пользователей СМАРТА \n",
    "- Средний расход клиентов обоих тарифов не зависит от их географии\n",
    "- Пользователи СМАРТА нарашивают объем потребления услуг: колличества сообщений, минут звонков, количества звонков, траффика и соответственно стоимости с января по декабрь с резким падением на 50% в январе.\n",
    "- Пользователи УЛЬТРА равномерно потребляют услуги, без резких калебаний в течении года.\n",
    "\n",
    "*Основываясь на этих данных, можно сделать вывод о том что тариф УЛЬТРА более выгоден для компании - приносит стабильный доход, в среднем больший чем от клиентов на тарифе СМАРТ, даже с учетом роста выручки к концу года.*\n",
    "\n",
    "*Но для клиентов более оптимальный тариф - СМАРТ, так как позволяет пользоваться услугами более гибко и экономить на услугах связи в месяцы, когда не нужно совершать много звонков или пользоватьсч интернетом.*"
   ]
  },
  {
   "cell_type": "code",
   "execution_count": null,
   "id": "f554d795",
   "metadata": {},
   "outputs": [],
   "source": []
  },
  {
   "cell_type": "code",
   "execution_count": null,
   "id": "9a5de294",
   "metadata": {},
   "outputs": [],
   "source": []
  },
  {
   "cell_type": "code",
   "execution_count": null,
   "id": "4414c813",
   "metadata": {},
   "outputs": [],
   "source": []
  },
  {
   "cell_type": "code",
   "execution_count": null,
   "id": "576998dc",
   "metadata": {},
   "outputs": [],
   "source": []
  },
  {
   "cell_type": "code",
   "execution_count": null,
   "id": "5e96aa6b",
   "metadata": {},
   "outputs": [],
   "source": []
  },
  {
   "cell_type": "code",
   "execution_count": null,
   "id": "9dbfbc76",
   "metadata": {},
   "outputs": [],
   "source": []
  },
  {
   "cell_type": "code",
   "execution_count": null,
   "id": "ff0b9aa0",
   "metadata": {},
   "outputs": [],
   "source": []
  },
  {
   "cell_type": "code",
   "execution_count": null,
   "id": "698115d2",
   "metadata": {},
   "outputs": [],
   "source": []
  },
  {
   "cell_type": "code",
   "execution_count": null,
   "id": "128e4f1b",
   "metadata": {},
   "outputs": [],
   "source": []
  }
 ],
 "metadata": {
  "ExecuteTimeLog": [
   {
    "duration": 1531,
    "start_time": "2022-07-12T15:00:26.574Z"
   },
   {
    "duration": 0,
    "start_time": "2022-07-12T15:00:28.110Z"
   },
   {
    "duration": 0,
    "start_time": "2022-07-12T15:00:28.113Z"
   },
   {
    "duration": 0,
    "start_time": "2022-07-12T15:00:28.114Z"
   },
   {
    "duration": 0,
    "start_time": "2022-07-12T15:00:28.115Z"
   },
   {
    "duration": 0,
    "start_time": "2022-07-12T15:00:28.117Z"
   },
   {
    "duration": 0,
    "start_time": "2022-07-12T15:00:28.118Z"
   },
   {
    "duration": 0,
    "start_time": "2022-07-12T15:00:28.119Z"
   },
   {
    "duration": 0,
    "start_time": "2022-07-12T15:00:28.120Z"
   },
   {
    "duration": 0,
    "start_time": "2022-07-12T15:00:28.121Z"
   },
   {
    "duration": 0,
    "start_time": "2022-07-12T15:00:28.123Z"
   },
   {
    "duration": 0,
    "start_time": "2022-07-12T15:00:28.124Z"
   },
   {
    "duration": 0,
    "start_time": "2022-07-12T15:00:28.125Z"
   },
   {
    "duration": 0,
    "start_time": "2022-07-12T15:00:28.126Z"
   },
   {
    "duration": 0,
    "start_time": "2022-07-12T15:00:28.127Z"
   },
   {
    "duration": 0,
    "start_time": "2022-07-12T15:00:28.128Z"
   },
   {
    "duration": 0,
    "start_time": "2022-07-12T15:00:28.129Z"
   },
   {
    "duration": 0,
    "start_time": "2022-07-12T15:00:28.130Z"
   },
   {
    "duration": 0,
    "start_time": "2022-07-12T15:00:28.131Z"
   },
   {
    "duration": 0,
    "start_time": "2022-07-12T15:00:28.133Z"
   },
   {
    "duration": 0,
    "start_time": "2022-07-12T15:00:28.134Z"
   },
   {
    "duration": 0,
    "start_time": "2022-07-12T15:00:28.135Z"
   },
   {
    "duration": 0,
    "start_time": "2022-07-12T15:00:28.136Z"
   },
   {
    "duration": 0,
    "start_time": "2022-07-12T15:00:28.137Z"
   },
   {
    "duration": 0,
    "start_time": "2022-07-12T15:00:28.138Z"
   },
   {
    "duration": 0,
    "start_time": "2022-07-12T15:00:28.140Z"
   },
   {
    "duration": 0,
    "start_time": "2022-07-12T15:00:28.141Z"
   },
   {
    "duration": 0,
    "start_time": "2022-07-12T15:00:28.142Z"
   },
   {
    "duration": 0,
    "start_time": "2022-07-12T15:00:28.143Z"
   },
   {
    "duration": 0,
    "start_time": "2022-07-12T15:00:28.144Z"
   },
   {
    "duration": 0,
    "start_time": "2022-07-12T15:00:28.145Z"
   },
   {
    "duration": 0,
    "start_time": "2022-07-12T15:00:28.146Z"
   },
   {
    "duration": 0,
    "start_time": "2022-07-12T15:00:28.148Z"
   },
   {
    "duration": 0,
    "start_time": "2022-07-12T15:00:28.210Z"
   },
   {
    "duration": 0,
    "start_time": "2022-07-12T15:00:28.211Z"
   },
   {
    "duration": 0,
    "start_time": "2022-07-12T15:00:28.212Z"
   },
   {
    "duration": 0,
    "start_time": "2022-07-12T15:00:28.213Z"
   },
   {
    "duration": 0,
    "start_time": "2022-07-12T15:00:28.214Z"
   },
   {
    "duration": 0,
    "start_time": "2022-07-12T15:00:28.215Z"
   },
   {
    "duration": 0,
    "start_time": "2022-07-12T15:00:28.216Z"
   },
   {
    "duration": 1,
    "start_time": "2022-07-12T15:00:28.216Z"
   },
   {
    "duration": 0,
    "start_time": "2022-07-12T15:00:28.217Z"
   },
   {
    "duration": 0,
    "start_time": "2022-07-12T15:00:28.219Z"
   },
   {
    "duration": 0,
    "start_time": "2022-07-12T15:00:28.220Z"
   },
   {
    "duration": 0,
    "start_time": "2022-07-12T15:00:28.221Z"
   },
   {
    "duration": 0,
    "start_time": "2022-07-12T15:00:28.222Z"
   },
   {
    "duration": 0,
    "start_time": "2022-07-12T15:00:28.223Z"
   },
   {
    "duration": 0,
    "start_time": "2022-07-12T15:00:28.224Z"
   },
   {
    "duration": 0,
    "start_time": "2022-07-12T15:00:28.225Z"
   },
   {
    "duration": 0,
    "start_time": "2022-07-12T15:00:28.226Z"
   },
   {
    "duration": 0,
    "start_time": "2022-07-12T15:00:28.227Z"
   },
   {
    "duration": 0,
    "start_time": "2022-07-12T15:00:28.228Z"
   },
   {
    "duration": 0,
    "start_time": "2022-07-12T15:00:28.229Z"
   },
   {
    "duration": 0,
    "start_time": "2022-07-12T15:00:28.231Z"
   },
   {
    "duration": 0,
    "start_time": "2022-07-12T15:00:28.232Z"
   },
   {
    "duration": 0,
    "start_time": "2022-07-12T15:00:28.233Z"
   },
   {
    "duration": 0,
    "start_time": "2022-07-12T15:00:28.234Z"
   },
   {
    "duration": 0,
    "start_time": "2022-07-12T15:00:28.235Z"
   },
   {
    "duration": 0,
    "start_time": "2022-07-12T15:00:28.236Z"
   },
   {
    "duration": 0,
    "start_time": "2022-07-12T15:00:28.237Z"
   },
   {
    "duration": 1489,
    "start_time": "2022-07-12T15:01:14.206Z"
   },
   {
    "duration": 205,
    "start_time": "2022-07-12T15:01:15.697Z"
   },
   {
    "duration": 304,
    "start_time": "2022-07-12T15:01:15.904Z"
   },
   {
    "duration": 142,
    "start_time": "2022-07-12T15:01:16.210Z"
   },
   {
    "duration": 15,
    "start_time": "2022-07-12T15:01:16.353Z"
   },
   {
    "duration": 14,
    "start_time": "2022-07-12T15:01:16.369Z"
   },
   {
    "duration": 3,
    "start_time": "2022-07-12T15:01:16.385Z"
   },
   {
    "duration": 11,
    "start_time": "2022-07-12T15:01:16.390Z"
   },
   {
    "duration": 2,
    "start_time": "2022-07-12T15:01:16.409Z"
   },
   {
    "duration": 11,
    "start_time": "2022-07-12T15:01:16.415Z"
   },
   {
    "duration": 12,
    "start_time": "2022-07-12T15:01:16.428Z"
   },
   {
    "duration": 118,
    "start_time": "2022-07-12T15:01:16.441Z"
   },
   {
    "duration": 0,
    "start_time": "2022-07-12T15:01:16.563Z"
   },
   {
    "duration": 0,
    "start_time": "2022-07-12T15:01:16.563Z"
   },
   {
    "duration": 0,
    "start_time": "2022-07-12T15:01:16.564Z"
   },
   {
    "duration": 0,
    "start_time": "2022-07-12T15:01:16.565Z"
   },
   {
    "duration": 0,
    "start_time": "2022-07-12T15:01:16.566Z"
   },
   {
    "duration": 0,
    "start_time": "2022-07-12T15:01:16.567Z"
   },
   {
    "duration": 0,
    "start_time": "2022-07-12T15:01:16.568Z"
   },
   {
    "duration": 0,
    "start_time": "2022-07-12T15:01:16.569Z"
   },
   {
    "duration": 0,
    "start_time": "2022-07-12T15:01:16.570Z"
   },
   {
    "duration": 0,
    "start_time": "2022-07-12T15:01:16.571Z"
   },
   {
    "duration": 0,
    "start_time": "2022-07-12T15:01:16.572Z"
   },
   {
    "duration": 1,
    "start_time": "2022-07-12T15:01:16.573Z"
   },
   {
    "duration": 0,
    "start_time": "2022-07-12T15:01:16.575Z"
   },
   {
    "duration": 0,
    "start_time": "2022-07-12T15:01:16.576Z"
   },
   {
    "duration": 0,
    "start_time": "2022-07-12T15:01:16.576Z"
   },
   {
    "duration": 0,
    "start_time": "2022-07-12T15:01:16.578Z"
   },
   {
    "duration": 0,
    "start_time": "2022-07-12T15:01:16.578Z"
   },
   {
    "duration": 0,
    "start_time": "2022-07-12T15:01:16.579Z"
   },
   {
    "duration": 0,
    "start_time": "2022-07-12T15:01:16.580Z"
   },
   {
    "duration": 0,
    "start_time": "2022-07-12T15:01:16.609Z"
   },
   {
    "duration": 0,
    "start_time": "2022-07-12T15:01:16.611Z"
   },
   {
    "duration": 0,
    "start_time": "2022-07-12T15:01:16.612Z"
   },
   {
    "duration": 0,
    "start_time": "2022-07-12T15:01:16.613Z"
   },
   {
    "duration": 0,
    "start_time": "2022-07-12T15:01:16.614Z"
   },
   {
    "duration": 0,
    "start_time": "2022-07-12T15:01:16.615Z"
   },
   {
    "duration": 0,
    "start_time": "2022-07-12T15:01:16.616Z"
   },
   {
    "duration": 0,
    "start_time": "2022-07-12T15:01:16.617Z"
   },
   {
    "duration": 0,
    "start_time": "2022-07-12T15:01:16.618Z"
   },
   {
    "duration": 0,
    "start_time": "2022-07-12T15:01:16.619Z"
   },
   {
    "duration": 0,
    "start_time": "2022-07-12T15:01:16.620Z"
   },
   {
    "duration": 0,
    "start_time": "2022-07-12T15:01:16.621Z"
   },
   {
    "duration": 0,
    "start_time": "2022-07-12T15:01:16.622Z"
   },
   {
    "duration": 0,
    "start_time": "2022-07-12T15:01:16.623Z"
   },
   {
    "duration": 0,
    "start_time": "2022-07-12T15:01:16.623Z"
   },
   {
    "duration": 0,
    "start_time": "2022-07-12T15:01:16.625Z"
   },
   {
    "duration": 0,
    "start_time": "2022-07-12T15:01:16.625Z"
   },
   {
    "duration": 0,
    "start_time": "2022-07-12T15:01:16.626Z"
   },
   {
    "duration": 0,
    "start_time": "2022-07-12T15:01:16.627Z"
   },
   {
    "duration": 0,
    "start_time": "2022-07-12T15:01:16.628Z"
   },
   {
    "duration": 0,
    "start_time": "2022-07-12T15:01:16.629Z"
   },
   {
    "duration": 0,
    "start_time": "2022-07-12T15:01:16.630Z"
   },
   {
    "duration": 0,
    "start_time": "2022-07-12T15:01:16.631Z"
   },
   {
    "duration": 0,
    "start_time": "2022-07-12T15:01:16.632Z"
   },
   {
    "duration": 0,
    "start_time": "2022-07-12T15:01:16.633Z"
   },
   {
    "duration": 0,
    "start_time": "2022-07-12T15:01:16.634Z"
   },
   {
    "duration": 0,
    "start_time": "2022-07-12T15:01:16.635Z"
   },
   {
    "duration": 0,
    "start_time": "2022-07-12T15:01:16.636Z"
   },
   {
    "duration": 0,
    "start_time": "2022-07-12T15:01:16.636Z"
   },
   {
    "duration": 1487,
    "start_time": "2022-07-12T15:02:12.021Z"
   },
   {
    "duration": 149,
    "start_time": "2022-07-12T15:02:13.510Z"
   },
   {
    "duration": 125,
    "start_time": "2022-07-12T15:02:13.661Z"
   },
   {
    "duration": 140,
    "start_time": "2022-07-12T15:02:13.788Z"
   },
   {
    "duration": 30,
    "start_time": "2022-07-12T15:02:13.930Z"
   },
   {
    "duration": 41,
    "start_time": "2022-07-12T15:02:13.961Z"
   },
   {
    "duration": 2,
    "start_time": "2022-07-12T15:02:14.004Z"
   },
   {
    "duration": 12,
    "start_time": "2022-07-12T15:02:14.008Z"
   },
   {
    "duration": 6,
    "start_time": "2022-07-12T15:02:14.021Z"
   },
   {
    "duration": 4,
    "start_time": "2022-07-12T15:02:14.029Z"
   },
   {
    "duration": 5,
    "start_time": "2022-07-12T15:02:14.035Z"
   },
   {
    "duration": 7,
    "start_time": "2022-07-12T15:02:14.042Z"
   },
   {
    "duration": 7,
    "start_time": "2022-07-12T15:02:14.050Z"
   },
   {
    "duration": 5,
    "start_time": "2022-07-12T15:02:14.059Z"
   },
   {
    "duration": 2093,
    "start_time": "2022-07-12T15:02:14.065Z"
   },
   {
    "duration": 0,
    "start_time": "2022-07-12T15:02:16.161Z"
   },
   {
    "duration": 0,
    "start_time": "2022-07-12T15:02:16.162Z"
   },
   {
    "duration": 0,
    "start_time": "2022-07-12T15:02:16.163Z"
   },
   {
    "duration": 0,
    "start_time": "2022-07-12T15:02:16.164Z"
   },
   {
    "duration": 0,
    "start_time": "2022-07-12T15:02:16.165Z"
   },
   {
    "duration": 0,
    "start_time": "2022-07-12T15:02:16.166Z"
   },
   {
    "duration": 0,
    "start_time": "2022-07-12T15:02:16.168Z"
   },
   {
    "duration": 0,
    "start_time": "2022-07-12T15:02:16.169Z"
   },
   {
    "duration": 0,
    "start_time": "2022-07-12T15:02:16.170Z"
   },
   {
    "duration": 0,
    "start_time": "2022-07-12T15:02:16.171Z"
   },
   {
    "duration": 1,
    "start_time": "2022-07-12T15:02:16.171Z"
   },
   {
    "duration": 0,
    "start_time": "2022-07-12T15:02:16.173Z"
   },
   {
    "duration": 0,
    "start_time": "2022-07-12T15:02:16.174Z"
   },
   {
    "duration": 0,
    "start_time": "2022-07-12T15:02:16.175Z"
   },
   {
    "duration": 0,
    "start_time": "2022-07-12T15:02:16.176Z"
   },
   {
    "duration": 0,
    "start_time": "2022-07-12T15:02:16.177Z"
   },
   {
    "duration": 0,
    "start_time": "2022-07-12T15:02:16.177Z"
   },
   {
    "duration": 0,
    "start_time": "2022-07-12T15:02:16.179Z"
   },
   {
    "duration": 0,
    "start_time": "2022-07-12T15:02:16.179Z"
   },
   {
    "duration": 0,
    "start_time": "2022-07-12T15:02:16.180Z"
   },
   {
    "duration": 0,
    "start_time": "2022-07-12T15:02:16.181Z"
   },
   {
    "duration": 0,
    "start_time": "2022-07-12T15:02:16.182Z"
   },
   {
    "duration": 0,
    "start_time": "2022-07-12T15:02:16.184Z"
   },
   {
    "duration": 0,
    "start_time": "2022-07-12T15:02:16.185Z"
   },
   {
    "duration": 0,
    "start_time": "2022-07-12T15:02:16.186Z"
   },
   {
    "duration": 0,
    "start_time": "2022-07-12T15:02:16.187Z"
   },
   {
    "duration": 0,
    "start_time": "2022-07-12T15:02:16.188Z"
   },
   {
    "duration": 0,
    "start_time": "2022-07-12T15:02:16.189Z"
   },
   {
    "duration": 0,
    "start_time": "2022-07-12T15:02:16.190Z"
   },
   {
    "duration": 0,
    "start_time": "2022-07-12T15:02:16.191Z"
   },
   {
    "duration": 0,
    "start_time": "2022-07-12T15:02:16.192Z"
   },
   {
    "duration": 0,
    "start_time": "2022-07-12T15:02:16.193Z"
   },
   {
    "duration": 0,
    "start_time": "2022-07-12T15:02:16.195Z"
   },
   {
    "duration": 0,
    "start_time": "2022-07-12T15:02:16.196Z"
   },
   {
    "duration": 0,
    "start_time": "2022-07-12T15:02:16.210Z"
   },
   {
    "duration": 0,
    "start_time": "2022-07-12T15:02:16.211Z"
   },
   {
    "duration": 0,
    "start_time": "2022-07-12T15:02:16.212Z"
   },
   {
    "duration": 0,
    "start_time": "2022-07-12T15:02:16.212Z"
   },
   {
    "duration": 0,
    "start_time": "2022-07-12T15:02:16.213Z"
   },
   {
    "duration": 0,
    "start_time": "2022-07-12T15:02:16.214Z"
   },
   {
    "duration": 0,
    "start_time": "2022-07-12T15:02:16.215Z"
   },
   {
    "duration": 0,
    "start_time": "2022-07-12T15:02:16.216Z"
   },
   {
    "duration": 0,
    "start_time": "2022-07-12T15:02:16.217Z"
   },
   {
    "duration": 0,
    "start_time": "2022-07-12T15:02:16.218Z"
   },
   {
    "duration": 0,
    "start_time": "2022-07-12T15:02:16.219Z"
   },
   {
    "duration": 15,
    "start_time": "2022-07-12T15:04:04.676Z"
   },
   {
    "duration": 1607,
    "start_time": "2022-07-12T15:04:51.674Z"
   },
   {
    "duration": 172,
    "start_time": "2022-07-12T15:04:53.283Z"
   },
   {
    "duration": 134,
    "start_time": "2022-07-12T15:04:53.457Z"
   },
   {
    "duration": 157,
    "start_time": "2022-07-12T15:04:53.593Z"
   },
   {
    "duration": 10,
    "start_time": "2022-07-12T15:04:53.751Z"
   },
   {
    "duration": 17,
    "start_time": "2022-07-12T15:04:53.763Z"
   },
   {
    "duration": 3,
    "start_time": "2022-07-12T15:04:53.782Z"
   },
   {
    "duration": 8,
    "start_time": "2022-07-12T15:04:53.786Z"
   },
   {
    "duration": 7,
    "start_time": "2022-07-12T15:04:53.795Z"
   },
   {
    "duration": 32,
    "start_time": "2022-07-12T15:04:53.806Z"
   },
   {
    "duration": 5,
    "start_time": "2022-07-12T15:04:53.840Z"
   },
   {
    "duration": 17,
    "start_time": "2022-07-12T15:04:53.846Z"
   },
   {
    "duration": 15,
    "start_time": "2022-07-12T15:04:53.865Z"
   },
   {
    "duration": 11,
    "start_time": "2022-07-12T15:04:53.882Z"
   },
   {
    "duration": 48,
    "start_time": "2022-07-12T15:04:53.895Z"
   },
   {
    "duration": 38,
    "start_time": "2022-07-12T15:04:53.945Z"
   },
   {
    "duration": 13,
    "start_time": "2022-07-12T15:04:53.985Z"
   },
   {
    "duration": 68,
    "start_time": "2022-07-12T15:04:54.011Z"
   },
   {
    "duration": 54,
    "start_time": "2022-07-12T15:04:54.081Z"
   },
   {
    "duration": 6,
    "start_time": "2022-07-12T15:04:54.137Z"
   },
   {
    "duration": 37,
    "start_time": "2022-07-12T15:04:54.144Z"
   },
   {
    "duration": 16,
    "start_time": "2022-07-12T15:04:54.183Z"
   },
   {
    "duration": 41,
    "start_time": "2022-07-12T15:04:54.201Z"
   },
   {
    "duration": 3,
    "start_time": "2022-07-12T15:04:54.244Z"
   },
   {
    "duration": 9,
    "start_time": "2022-07-12T15:04:54.249Z"
   },
   {
    "duration": 6,
    "start_time": "2022-07-12T15:04:54.260Z"
   },
   {
    "duration": 14,
    "start_time": "2022-07-12T15:04:54.267Z"
   },
   {
    "duration": 8,
    "start_time": "2022-07-12T15:04:54.284Z"
   },
   {
    "duration": 8,
    "start_time": "2022-07-12T15:04:54.293Z"
   },
   {
    "duration": 25,
    "start_time": "2022-07-12T15:04:54.302Z"
   },
   {
    "duration": 12,
    "start_time": "2022-07-12T15:04:54.329Z"
   },
   {
    "duration": 12,
    "start_time": "2022-07-12T15:04:54.343Z"
   },
   {
    "duration": 17,
    "start_time": "2022-07-12T15:04:54.357Z"
   },
   {
    "duration": 9,
    "start_time": "2022-07-12T15:04:54.376Z"
   },
   {
    "duration": 18,
    "start_time": "2022-07-12T15:04:54.386Z"
   },
   {
    "duration": 99,
    "start_time": "2022-07-12T15:04:54.405Z"
   },
   {
    "duration": 2,
    "start_time": "2022-07-12T15:04:54.506Z"
   },
   {
    "duration": 56,
    "start_time": "2022-07-12T15:04:54.510Z"
   },
   {
    "duration": 21,
    "start_time": "2022-07-12T15:04:54.568Z"
   },
   {
    "duration": 5,
    "start_time": "2022-07-12T15:04:54.591Z"
   },
   {
    "duration": 10,
    "start_time": "2022-07-12T15:04:54.598Z"
   },
   {
    "duration": 51,
    "start_time": "2022-07-12T15:04:54.609Z"
   },
   {
    "duration": 21,
    "start_time": "2022-07-12T15:04:54.662Z"
   },
   {
    "duration": 867,
    "start_time": "2022-07-12T15:04:54.685Z"
   },
   {
    "duration": 289,
    "start_time": "2022-07-12T15:04:55.555Z"
   },
   {
    "duration": 310,
    "start_time": "2022-07-12T15:04:55.846Z"
   },
   {
    "duration": 205,
    "start_time": "2022-07-12T15:04:56.159Z"
   },
   {
    "duration": 219,
    "start_time": "2022-07-12T15:04:56.366Z"
   },
   {
    "duration": 214,
    "start_time": "2022-07-12T15:04:56.587Z"
   },
   {
    "duration": 294,
    "start_time": "2022-07-12T15:04:56.803Z"
   },
   {
    "duration": 189,
    "start_time": "2022-07-12T15:04:57.099Z"
   },
   {
    "duration": 219,
    "start_time": "2022-07-12T15:04:57.290Z"
   },
   {
    "duration": 197,
    "start_time": "2022-07-12T15:04:57.525Z"
   },
   {
    "duration": 207,
    "start_time": "2022-07-12T15:04:57.724Z"
   },
   {
    "duration": 153,
    "start_time": "2022-07-12T15:04:57.936Z"
   },
   {
    "duration": 180,
    "start_time": "2022-07-12T15:04:58.090Z"
   },
   {
    "duration": 178,
    "start_time": "2022-07-12T15:04:58.271Z"
   },
   {
    "duration": 194,
    "start_time": "2022-07-12T15:04:58.451Z"
   },
   {
    "duration": 5,
    "start_time": "2022-07-12T15:04:58.647Z"
   },
   {
    "duration": 22,
    "start_time": "2022-07-12T15:04:58.653Z"
   },
   {
    "duration": 15,
    "start_time": "2022-07-12T15:07:03.948Z"
   },
   {
    "duration": 8,
    "start_time": "2022-07-12T15:10:40.849Z"
   },
   {
    "duration": 14,
    "start_time": "2022-07-12T15:10:54.392Z"
   },
   {
    "duration": 19,
    "start_time": "2022-07-12T15:16:01.438Z"
   },
   {
    "duration": 81,
    "start_time": "2022-07-12T17:09:26.126Z"
   },
   {
    "duration": 47,
    "start_time": "2022-07-12T17:11:53.212Z"
   },
   {
    "duration": 1728,
    "start_time": "2022-07-12T17:12:00.477Z"
   },
   {
    "duration": 566,
    "start_time": "2022-07-12T17:12:02.207Z"
   },
   {
    "duration": 753,
    "start_time": "2022-07-12T17:12:02.775Z"
   },
   {
    "duration": 338,
    "start_time": "2022-07-12T17:12:03.530Z"
   },
   {
    "duration": 74,
    "start_time": "2022-07-12T17:12:03.870Z"
   },
   {
    "duration": 73,
    "start_time": "2022-07-12T17:12:03.946Z"
   },
   {
    "duration": 3,
    "start_time": "2022-07-12T17:12:04.022Z"
   },
   {
    "duration": 13,
    "start_time": "2022-07-12T17:12:04.027Z"
   },
   {
    "duration": 6,
    "start_time": "2022-07-12T17:12:04.042Z"
   },
   {
    "duration": 13,
    "start_time": "2022-07-12T17:12:04.052Z"
   },
   {
    "duration": 22,
    "start_time": "2022-07-12T17:12:04.067Z"
   },
   {
    "duration": 18,
    "start_time": "2022-07-12T17:12:04.092Z"
   },
   {
    "duration": 18,
    "start_time": "2022-07-12T17:12:04.112Z"
   },
   {
    "duration": 8,
    "start_time": "2022-07-12T17:12:04.132Z"
   },
   {
    "duration": 39,
    "start_time": "2022-07-12T17:12:04.142Z"
   },
   {
    "duration": 46,
    "start_time": "2022-07-12T17:12:04.183Z"
   },
   {
    "duration": 17,
    "start_time": "2022-07-12T17:12:04.230Z"
   },
   {
    "duration": 73,
    "start_time": "2022-07-12T17:12:04.248Z"
   },
   {
    "duration": 23,
    "start_time": "2022-07-12T17:12:05.960Z"
   },
   {
    "duration": 89,
    "start_time": "2022-07-12T17:12:19.015Z"
   },
   {
    "duration": 11,
    "start_time": "2022-07-12T17:12:25.465Z"
   },
   {
    "duration": 1286,
    "start_time": "2022-07-12T17:12:31.697Z"
   },
   {
    "duration": 5,
    "start_time": "2022-07-12T17:12:42.306Z"
   },
   {
    "duration": 35,
    "start_time": "2022-07-12T17:12:44.467Z"
   },
   {
    "duration": 78,
    "start_time": "2022-07-12T17:17:00.444Z"
   },
   {
    "duration": 94,
    "start_time": "2022-07-12T17:17:04.594Z"
   },
   {
    "duration": 76,
    "start_time": "2022-07-12T17:17:07.804Z"
   },
   {
    "duration": 69,
    "start_time": "2022-07-12T17:17:15.164Z"
   },
   {
    "duration": 72,
    "start_time": "2022-07-12T17:17:20.604Z"
   },
   {
    "duration": 71,
    "start_time": "2022-07-12T17:17:25.077Z"
   },
   {
    "duration": 11,
    "start_time": "2022-07-12T17:17:28.802Z"
   },
   {
    "duration": 4,
    "start_time": "2022-07-12T17:17:36.203Z"
   },
   {
    "duration": 194,
    "start_time": "2022-07-12T17:17:36.210Z"
   },
   {
    "duration": 136,
    "start_time": "2022-07-12T17:17:36.406Z"
   },
   {
    "duration": 94,
    "start_time": "2022-07-12T17:17:36.544Z"
   },
   {
    "duration": 19,
    "start_time": "2022-07-12T17:17:36.640Z"
   },
   {
    "duration": 29,
    "start_time": "2022-07-12T17:17:36.661Z"
   },
   {
    "duration": 2,
    "start_time": "2022-07-12T17:17:36.692Z"
   },
   {
    "duration": 7,
    "start_time": "2022-07-12T17:17:36.697Z"
   },
   {
    "duration": 5,
    "start_time": "2022-07-12T17:17:36.706Z"
   },
   {
    "duration": 4,
    "start_time": "2022-07-12T17:17:36.713Z"
   },
   {
    "duration": 5,
    "start_time": "2022-07-12T17:17:36.720Z"
   },
   {
    "duration": 7,
    "start_time": "2022-07-12T17:17:36.726Z"
   },
   {
    "duration": 8,
    "start_time": "2022-07-12T17:17:36.735Z"
   },
   {
    "duration": 6,
    "start_time": "2022-07-12T17:17:36.746Z"
   },
   {
    "duration": 59,
    "start_time": "2022-07-12T17:17:36.753Z"
   },
   {
    "duration": 50,
    "start_time": "2022-07-12T17:17:36.814Z"
   },
   {
    "duration": 33,
    "start_time": "2022-07-12T17:17:36.866Z"
   },
   {
    "duration": 68,
    "start_time": "2022-07-12T17:17:36.902Z"
   },
   {
    "duration": 31,
    "start_time": "2022-07-12T17:17:36.972Z"
   },
   {
    "duration": 7,
    "start_time": "2022-07-12T17:17:37.005Z"
   },
   {
    "duration": 45,
    "start_time": "2022-07-12T17:17:37.015Z"
   },
   {
    "duration": 47,
    "start_time": "2022-07-12T17:17:37.063Z"
   },
   {
    "duration": 27,
    "start_time": "2022-07-12T17:17:37.112Z"
   },
   {
    "duration": 10,
    "start_time": "2022-07-12T17:17:39.485Z"
   },
   {
    "duration": 10,
    "start_time": "2022-07-12T17:17:45.952Z"
   },
   {
    "duration": 88,
    "start_time": "2022-07-12T17:17:48.357Z"
   },
   {
    "duration": 38,
    "start_time": "2022-07-12T17:17:54.051Z"
   },
   {
    "duration": 4,
    "start_time": "2022-07-12T18:51:30.337Z"
   },
   {
    "duration": 229,
    "start_time": "2022-07-12T18:51:30.343Z"
   },
   {
    "duration": 169,
    "start_time": "2022-07-12T18:51:30.574Z"
   },
   {
    "duration": 103,
    "start_time": "2022-07-12T18:51:30.745Z"
   },
   {
    "duration": 17,
    "start_time": "2022-07-12T18:51:30.851Z"
   },
   {
    "duration": 36,
    "start_time": "2022-07-12T18:51:30.870Z"
   },
   {
    "duration": 4,
    "start_time": "2022-07-12T18:51:30.908Z"
   },
   {
    "duration": 2,
    "start_time": "2022-07-12T18:51:30.914Z"
   },
   {
    "duration": 31,
    "start_time": "2022-07-12T18:51:30.918Z"
   },
   {
    "duration": 27,
    "start_time": "2022-07-12T18:51:30.951Z"
   },
   {
    "duration": 34,
    "start_time": "2022-07-12T18:51:30.980Z"
   },
   {
    "duration": 31,
    "start_time": "2022-07-12T18:51:31.016Z"
   },
   {
    "duration": 21,
    "start_time": "2022-07-12T18:51:31.049Z"
   },
   {
    "duration": 13,
    "start_time": "2022-07-12T18:51:31.073Z"
   },
   {
    "duration": 80,
    "start_time": "2022-07-12T18:51:31.088Z"
   },
   {
    "duration": 51,
    "start_time": "2022-07-12T18:51:31.170Z"
   },
   {
    "duration": 14,
    "start_time": "2022-07-12T18:51:31.224Z"
   },
   {
    "duration": 80,
    "start_time": "2022-07-12T18:51:31.240Z"
   },
   {
    "duration": 23,
    "start_time": "2022-07-12T18:51:31.328Z"
   },
   {
    "duration": 4,
    "start_time": "2022-07-12T18:51:31.354Z"
   },
   {
    "duration": 44,
    "start_time": "2022-07-12T18:51:31.360Z"
   },
   {
    "duration": 35,
    "start_time": "2022-07-12T18:51:31.406Z"
   },
   {
    "duration": 20,
    "start_time": "2022-07-12T18:51:31.443Z"
   },
   {
    "duration": 3,
    "start_time": "2022-07-12T18:51:31.465Z"
   },
   {
    "duration": 82,
    "start_time": "2022-07-12T18:51:38.091Z"
   },
   {
    "duration": 81,
    "start_time": "2022-07-12T18:52:25.342Z"
   },
   {
    "duration": 1747,
    "start_time": "2022-07-12T18:52:42.078Z"
   },
   {
    "duration": 647,
    "start_time": "2022-07-12T18:52:43.827Z"
   },
   {
    "duration": 518,
    "start_time": "2022-07-12T18:52:44.475Z"
   },
   {
    "duration": 384,
    "start_time": "2022-07-12T18:52:44.996Z"
   },
   {
    "duration": 96,
    "start_time": "2022-07-12T18:52:45.382Z"
   },
   {
    "duration": 84,
    "start_time": "2022-07-12T18:52:45.480Z"
   },
   {
    "duration": 3,
    "start_time": "2022-07-12T18:52:45.567Z"
   },
   {
    "duration": 15,
    "start_time": "2022-07-12T18:52:45.572Z"
   },
   {
    "duration": 18,
    "start_time": "2022-07-12T18:52:45.590Z"
   },
   {
    "duration": 31,
    "start_time": "2022-07-12T18:52:45.612Z"
   },
   {
    "duration": 16,
    "start_time": "2022-07-12T18:52:45.645Z"
   },
   {
    "duration": 14,
    "start_time": "2022-07-12T18:52:45.663Z"
   },
   {
    "duration": 15,
    "start_time": "2022-07-12T18:52:45.679Z"
   },
   {
    "duration": 24,
    "start_time": "2022-07-12T18:52:45.697Z"
   },
   {
    "duration": 41,
    "start_time": "2022-07-12T18:52:45.724Z"
   },
   {
    "duration": 55,
    "start_time": "2022-07-12T18:52:45.767Z"
   },
   {
    "duration": 19,
    "start_time": "2022-07-12T18:52:45.827Z"
   },
   {
    "duration": 82,
    "start_time": "2022-07-12T18:52:45.850Z"
   },
   {
    "duration": 26,
    "start_time": "2022-07-12T18:52:45.937Z"
   },
   {
    "duration": 5,
    "start_time": "2022-07-12T18:52:45.966Z"
   },
   {
    "duration": 72,
    "start_time": "2022-07-12T18:52:45.973Z"
   },
   {
    "duration": 34,
    "start_time": "2022-07-12T18:52:46.047Z"
   },
   {
    "duration": 48,
    "start_time": "2022-07-12T18:52:46.083Z"
   },
   {
    "duration": 4,
    "start_time": "2022-07-12T18:52:46.134Z"
   },
   {
    "duration": 102,
    "start_time": "2022-07-12T18:52:48.046Z"
   },
   {
    "duration": 65,
    "start_time": "2022-07-12T18:53:08.564Z"
   },
   {
    "duration": 1809,
    "start_time": "2022-07-12T18:53:13.849Z"
   },
   {
    "duration": 684,
    "start_time": "2022-07-12T18:53:15.661Z"
   },
   {
    "duration": 560,
    "start_time": "2022-07-12T18:53:16.347Z"
   },
   {
    "duration": 369,
    "start_time": "2022-07-12T18:53:16.910Z"
   },
   {
    "duration": 84,
    "start_time": "2022-07-12T18:53:17.282Z"
   },
   {
    "duration": 85,
    "start_time": "2022-07-12T18:53:17.369Z"
   },
   {
    "duration": 3,
    "start_time": "2022-07-12T18:53:17.456Z"
   },
   {
    "duration": 6,
    "start_time": "2022-07-12T18:53:17.462Z"
   },
   {
    "duration": 16,
    "start_time": "2022-07-12T18:53:17.470Z"
   },
   {
    "duration": 7,
    "start_time": "2022-07-12T18:53:17.490Z"
   },
   {
    "duration": 27,
    "start_time": "2022-07-12T18:53:17.501Z"
   },
   {
    "duration": 9,
    "start_time": "2022-07-12T18:53:17.530Z"
   },
   {
    "duration": 10,
    "start_time": "2022-07-12T18:53:17.541Z"
   },
   {
    "duration": 6,
    "start_time": "2022-07-12T18:53:17.554Z"
   },
   {
    "duration": 44,
    "start_time": "2022-07-12T18:53:17.562Z"
   },
   {
    "duration": 60,
    "start_time": "2022-07-12T18:53:17.607Z"
   },
   {
    "duration": 18,
    "start_time": "2022-07-12T18:53:17.669Z"
   },
   {
    "duration": 74,
    "start_time": "2022-07-12T18:53:17.689Z"
   },
   {
    "duration": 37,
    "start_time": "2022-07-12T18:53:17.765Z"
   },
   {
    "duration": 5,
    "start_time": "2022-07-12T18:53:17.808Z"
   },
   {
    "duration": 53,
    "start_time": "2022-07-12T18:53:17.815Z"
   },
   {
    "duration": 36,
    "start_time": "2022-07-12T18:53:17.870Z"
   },
   {
    "duration": 22,
    "start_time": "2022-07-12T18:53:17.912Z"
   },
   {
    "duration": 3,
    "start_time": "2022-07-12T18:53:17.936Z"
   },
   {
    "duration": 108,
    "start_time": "2022-07-12T18:53:17.940Z"
   },
   {
    "duration": 111,
    "start_time": "2022-07-12T18:53:19.432Z"
   },
   {
    "duration": 11,
    "start_time": "2022-07-12T18:55:32.156Z"
   },
   {
    "duration": 10,
    "start_time": "2022-07-12T18:55:56.341Z"
   },
   {
    "duration": 24,
    "start_time": "2022-07-12T18:56:07.155Z"
   },
   {
    "duration": 41,
    "start_time": "2022-07-12T18:57:34.081Z"
   },
   {
    "duration": 105,
    "start_time": "2022-07-12T18:57:43.746Z"
   },
   {
    "duration": 5,
    "start_time": "2022-07-12T19:09:36.129Z"
   },
   {
    "duration": 183,
    "start_time": "2022-07-12T19:09:36.137Z"
   },
   {
    "duration": 136,
    "start_time": "2022-07-12T19:09:36.327Z"
   },
   {
    "duration": 95,
    "start_time": "2022-07-12T19:09:36.465Z"
   },
   {
    "duration": 18,
    "start_time": "2022-07-12T19:09:36.562Z"
   },
   {
    "duration": 43,
    "start_time": "2022-07-12T19:09:36.582Z"
   },
   {
    "duration": 9,
    "start_time": "2022-07-12T19:09:36.629Z"
   },
   {
    "duration": 18,
    "start_time": "2022-07-12T19:09:36.642Z"
   },
   {
    "duration": 10,
    "start_time": "2022-07-12T19:09:36.662Z"
   },
   {
    "duration": 8,
    "start_time": "2022-07-12T19:09:36.674Z"
   },
   {
    "duration": 8,
    "start_time": "2022-07-12T19:09:36.685Z"
   },
   {
    "duration": 55,
    "start_time": "2022-07-12T19:09:36.695Z"
   },
   {
    "duration": 23,
    "start_time": "2022-07-12T19:09:36.752Z"
   },
   {
    "duration": 13,
    "start_time": "2022-07-12T19:09:36.778Z"
   },
   {
    "duration": 81,
    "start_time": "2022-07-12T19:09:36.793Z"
   },
   {
    "duration": 58,
    "start_time": "2022-07-12T19:09:36.876Z"
   },
   {
    "duration": 24,
    "start_time": "2022-07-12T19:09:36.937Z"
   },
   {
    "duration": 77,
    "start_time": "2022-07-12T19:09:36.964Z"
   },
   {
    "duration": 19,
    "start_time": "2022-07-12T19:09:37.043Z"
   },
   {
    "duration": 14,
    "start_time": "2022-07-12T19:09:37.063Z"
   },
   {
    "duration": 52,
    "start_time": "2022-07-12T19:09:37.079Z"
   },
   {
    "duration": 27,
    "start_time": "2022-07-12T19:09:37.133Z"
   },
   {
    "duration": 23,
    "start_time": "2022-07-12T19:09:37.163Z"
   },
   {
    "duration": 7,
    "start_time": "2022-07-12T19:09:37.205Z"
   },
   {
    "duration": 24,
    "start_time": "2022-07-12T19:09:38.863Z"
   },
   {
    "duration": 21,
    "start_time": "2022-07-12T19:09:42.055Z"
   },
   {
    "duration": 16,
    "start_time": "2022-07-12T19:09:46.523Z"
   },
   {
    "duration": 19,
    "start_time": "2022-07-12T19:12:15.156Z"
   },
   {
    "duration": 13,
    "start_time": "2022-07-12T19:12:17.059Z"
   },
   {
    "duration": 17,
    "start_time": "2022-07-12T19:12:30.000Z"
   },
   {
    "duration": 4,
    "start_time": "2022-07-12T19:13:19.377Z"
   },
   {
    "duration": 180,
    "start_time": "2022-07-12T19:13:19.382Z"
   },
   {
    "duration": 152,
    "start_time": "2022-07-12T19:13:19.565Z"
   },
   {
    "duration": 96,
    "start_time": "2022-07-12T19:13:19.719Z"
   },
   {
    "duration": 22,
    "start_time": "2022-07-12T19:13:19.818Z"
   },
   {
    "duration": 29,
    "start_time": "2022-07-12T19:13:19.842Z"
   },
   {
    "duration": 3,
    "start_time": "2022-07-12T19:13:19.873Z"
   },
   {
    "duration": 11,
    "start_time": "2022-07-12T19:13:19.878Z"
   },
   {
    "duration": 6,
    "start_time": "2022-07-12T19:13:19.891Z"
   },
   {
    "duration": 35,
    "start_time": "2022-07-12T19:13:19.899Z"
   },
   {
    "duration": 6,
    "start_time": "2022-07-12T19:13:19.937Z"
   },
   {
    "duration": 8,
    "start_time": "2022-07-12T19:13:19.945Z"
   },
   {
    "duration": 8,
    "start_time": "2022-07-12T19:13:19.955Z"
   },
   {
    "duration": 5,
    "start_time": "2022-07-12T19:13:19.967Z"
   },
   {
    "duration": 47,
    "start_time": "2022-07-12T19:13:19.974Z"
   },
   {
    "duration": 49,
    "start_time": "2022-07-12T19:13:20.029Z"
   },
   {
    "duration": 18,
    "start_time": "2022-07-12T19:13:20.080Z"
   },
   {
    "duration": 94,
    "start_time": "2022-07-12T19:13:20.100Z"
   },
   {
    "duration": 26,
    "start_time": "2022-07-12T19:13:20.197Z"
   },
   {
    "duration": 17,
    "start_time": "2022-07-12T19:13:20.225Z"
   },
   {
    "duration": 34,
    "start_time": "2022-07-12T19:13:20.244Z"
   },
   {
    "duration": 28,
    "start_time": "2022-07-12T19:13:20.280Z"
   },
   {
    "duration": 27,
    "start_time": "2022-07-12T19:13:20.314Z"
   },
   {
    "duration": 50,
    "start_time": "2022-07-12T19:13:23.285Z"
   },
   {
    "duration": 5,
    "start_time": "2022-07-12T19:13:26.423Z"
   },
   {
    "duration": 8,
    "start_time": "2022-07-12T19:13:31.278Z"
   },
   {
    "duration": 6,
    "start_time": "2022-07-12T19:13:35.255Z"
   },
   {
    "duration": 5,
    "start_time": "2022-07-12T19:13:38.524Z"
   },
   {
    "duration": 16,
    "start_time": "2022-07-12T19:13:57.545Z"
   },
   {
    "duration": 29,
    "start_time": "2022-07-12T19:14:13.135Z"
   },
   {
    "duration": 12,
    "start_time": "2022-07-12T19:14:37.798Z"
   },
   {
    "duration": 4,
    "start_time": "2022-07-12T19:14:39.557Z"
   },
   {
    "duration": 3,
    "start_time": "2022-07-12T19:14:47.587Z"
   },
   {
    "duration": 219,
    "start_time": "2022-07-12T19:14:47.593Z"
   },
   {
    "duration": 151,
    "start_time": "2022-07-12T19:14:47.819Z"
   },
   {
    "duration": 99,
    "start_time": "2022-07-12T19:14:47.973Z"
   },
   {
    "duration": 18,
    "start_time": "2022-07-12T19:14:48.074Z"
   },
   {
    "duration": 34,
    "start_time": "2022-07-12T19:14:48.094Z"
   },
   {
    "duration": 2,
    "start_time": "2022-07-12T19:14:48.130Z"
   },
   {
    "duration": 7,
    "start_time": "2022-07-12T19:14:48.134Z"
   },
   {
    "duration": 5,
    "start_time": "2022-07-12T19:14:48.144Z"
   },
   {
    "duration": 7,
    "start_time": "2022-07-12T19:14:48.150Z"
   },
   {
    "duration": 8,
    "start_time": "2022-07-12T19:14:48.158Z"
   },
   {
    "duration": 10,
    "start_time": "2022-07-12T19:14:48.167Z"
   },
   {
    "duration": 11,
    "start_time": "2022-07-12T19:14:48.178Z"
   },
   {
    "duration": 4,
    "start_time": "2022-07-12T19:14:48.191Z"
   },
   {
    "duration": 58,
    "start_time": "2022-07-12T19:14:48.197Z"
   },
   {
    "duration": 48,
    "start_time": "2022-07-12T19:14:48.257Z"
   },
   {
    "duration": 11,
    "start_time": "2022-07-12T19:14:48.314Z"
   },
   {
    "duration": 55,
    "start_time": "2022-07-12T19:14:48.327Z"
   },
   {
    "duration": 31,
    "start_time": "2022-07-12T19:14:48.384Z"
   },
   {
    "duration": 5,
    "start_time": "2022-07-12T19:14:48.417Z"
   },
   {
    "duration": 28,
    "start_time": "2022-07-12T19:14:48.424Z"
   },
   {
    "duration": 18,
    "start_time": "2022-07-12T19:14:48.455Z"
   },
   {
    "duration": 41,
    "start_time": "2022-07-12T19:14:48.475Z"
   },
   {
    "duration": 41,
    "start_time": "2022-07-12T19:14:48.519Z"
   },
   {
    "duration": 5,
    "start_time": "2022-07-12T19:14:48.562Z"
   },
   {
    "duration": 37,
    "start_time": "2022-07-12T19:14:48.569Z"
   },
   {
    "duration": 6,
    "start_time": "2022-07-12T19:14:48.616Z"
   },
   {
    "duration": 22,
    "start_time": "2022-07-12T19:14:48.624Z"
   },
   {
    "duration": 4,
    "start_time": "2022-07-12T19:14:48.648Z"
   },
   {
    "duration": 8,
    "start_time": "2022-07-12T19:14:48.654Z"
   },
   {
    "duration": 6,
    "start_time": "2022-07-12T19:14:48.664Z"
   },
   {
    "duration": 9,
    "start_time": "2022-07-12T19:14:48.672Z"
   },
   {
    "duration": 37,
    "start_time": "2022-07-12T19:14:48.683Z"
   },
   {
    "duration": 8,
    "start_time": "2022-07-12T19:14:48.722Z"
   },
   {
    "duration": 7,
    "start_time": "2022-07-12T19:14:48.732Z"
   },
   {
    "duration": 22,
    "start_time": "2022-07-12T19:14:48.741Z"
   },
   {
    "duration": 0,
    "start_time": "2022-07-12T19:14:48.765Z"
   },
   {
    "duration": 30,
    "start_time": "2022-07-12T19:16:09.030Z"
   },
   {
    "duration": 113,
    "start_time": "2022-07-12T19:16:17.867Z"
   },
   {
    "duration": 15,
    "start_time": "2022-07-12T19:16:36.473Z"
   },
   {
    "duration": 29,
    "start_time": "2022-07-12T19:16:51.164Z"
   },
   {
    "duration": 1875,
    "start_time": "2022-07-12T19:17:08.478Z"
   },
   {
    "duration": 18,
    "start_time": "2022-07-12T19:17:48.021Z"
   },
   {
    "duration": 16,
    "start_time": "2022-07-12T19:18:48.227Z"
   },
   {
    "duration": 6,
    "start_time": "2022-07-12T19:18:53.621Z"
   },
   {
    "duration": 9,
    "start_time": "2022-07-12T19:18:55.219Z"
   },
   {
    "duration": 15,
    "start_time": "2022-07-12T19:19:22.558Z"
   },
   {
    "duration": 9,
    "start_time": "2022-07-12T19:19:40.307Z"
   },
   {
    "duration": 5,
    "start_time": "2022-07-12T19:19:45.258Z"
   },
   {
    "duration": 4,
    "start_time": "2022-07-12T19:19:46.452Z"
   },
   {
    "duration": 4,
    "start_time": "2022-07-12T19:19:49.448Z"
   },
   {
    "duration": 3,
    "start_time": "2022-07-12T19:19:55.978Z"
   },
   {
    "duration": 187,
    "start_time": "2022-07-12T19:19:55.983Z"
   },
   {
    "duration": 165,
    "start_time": "2022-07-12T19:19:56.172Z"
   },
   {
    "duration": 115,
    "start_time": "2022-07-12T19:19:56.339Z"
   },
   {
    "duration": 17,
    "start_time": "2022-07-12T19:19:56.456Z"
   },
   {
    "duration": 41,
    "start_time": "2022-07-12T19:19:56.475Z"
   },
   {
    "duration": 3,
    "start_time": "2022-07-12T19:19:56.518Z"
   },
   {
    "duration": 5,
    "start_time": "2022-07-12T19:19:56.523Z"
   },
   {
    "duration": 10,
    "start_time": "2022-07-12T19:19:56.529Z"
   },
   {
    "duration": 8,
    "start_time": "2022-07-12T19:19:56.541Z"
   },
   {
    "duration": 5,
    "start_time": "2022-07-12T19:19:56.551Z"
   },
   {
    "duration": 8,
    "start_time": "2022-07-12T19:19:56.558Z"
   },
   {
    "duration": 8,
    "start_time": "2022-07-12T19:19:56.568Z"
   },
   {
    "duration": 6,
    "start_time": "2022-07-12T19:19:56.579Z"
   },
   {
    "duration": 59,
    "start_time": "2022-07-12T19:19:56.587Z"
   },
   {
    "duration": 69,
    "start_time": "2022-07-12T19:19:56.648Z"
   },
   {
    "duration": 18,
    "start_time": "2022-07-12T19:19:56.721Z"
   },
   {
    "duration": 66,
    "start_time": "2022-07-12T19:19:56.741Z"
   },
   {
    "duration": 22,
    "start_time": "2022-07-12T19:19:56.808Z"
   },
   {
    "duration": 12,
    "start_time": "2022-07-12T19:19:56.834Z"
   },
   {
    "duration": 56,
    "start_time": "2022-07-12T19:19:56.849Z"
   },
   {
    "duration": 25,
    "start_time": "2022-07-12T19:19:56.914Z"
   },
   {
    "duration": 24,
    "start_time": "2022-07-12T19:19:56.942Z"
   },
   {
    "duration": 57,
    "start_time": "2022-07-12T19:19:56.968Z"
   },
   {
    "duration": 22,
    "start_time": "2022-07-12T19:19:57.027Z"
   },
   {
    "duration": 9,
    "start_time": "2022-07-12T19:19:57.052Z"
   },
   {
    "duration": 11,
    "start_time": "2022-07-12T19:19:57.064Z"
   },
   {
    "duration": 37,
    "start_time": "2022-07-12T19:19:57.078Z"
   },
   {
    "duration": 12,
    "start_time": "2022-07-12T19:19:57.118Z"
   },
   {
    "duration": 9,
    "start_time": "2022-07-12T19:19:57.132Z"
   },
   {
    "duration": 10,
    "start_time": "2022-07-12T19:19:57.143Z"
   },
   {
    "duration": 5,
    "start_time": "2022-07-12T19:19:57.155Z"
   },
   {
    "duration": 16,
    "start_time": "2022-07-12T19:19:57.162Z"
   },
   {
    "duration": 13,
    "start_time": "2022-07-12T19:19:57.180Z"
   },
   {
    "duration": 14,
    "start_time": "2022-07-12T19:19:57.196Z"
   },
   {
    "duration": 11,
    "start_time": "2022-07-12T19:19:58.505Z"
   },
   {
    "duration": 17,
    "start_time": "2022-07-12T19:20:05.909Z"
   },
   {
    "duration": 129,
    "start_time": "2022-07-12T19:20:49.315Z"
   },
   {
    "duration": 134,
    "start_time": "2022-07-12T19:21:28.120Z"
   },
   {
    "duration": 89,
    "start_time": "2022-07-12T19:22:20.770Z"
   },
   {
    "duration": 35,
    "start_time": "2022-07-12T19:23:40.774Z"
   },
   {
    "duration": 32,
    "start_time": "2022-07-12T19:24:25.429Z"
   },
   {
    "duration": 27,
    "start_time": "2022-07-12T19:24:55.551Z"
   },
   {
    "duration": 40,
    "start_time": "2022-07-12T19:25:34.445Z"
   },
   {
    "duration": 40,
    "start_time": "2022-07-12T19:25:45.849Z"
   },
   {
    "duration": 40,
    "start_time": "2022-07-12T19:26:05.458Z"
   },
   {
    "duration": 32,
    "start_time": "2022-07-12T19:26:31.654Z"
   },
   {
    "duration": 29,
    "start_time": "2022-07-12T19:26:46.660Z"
   },
   {
    "duration": 31,
    "start_time": "2022-07-12T19:26:50.406Z"
   },
   {
    "duration": 31,
    "start_time": "2022-07-12T19:27:01.895Z"
   },
   {
    "duration": 16,
    "start_time": "2022-07-12T19:27:04.827Z"
   },
   {
    "duration": 30,
    "start_time": "2022-07-12T19:27:09.878Z"
   },
   {
    "duration": 25,
    "start_time": "2022-07-12T19:27:32.514Z"
   },
   {
    "duration": 30,
    "start_time": "2022-07-12T19:28:10.642Z"
   },
   {
    "duration": 47,
    "start_time": "2022-07-12T19:30:18.363Z"
   },
   {
    "duration": 26,
    "start_time": "2022-07-12T19:30:38.322Z"
   },
   {
    "duration": 10,
    "start_time": "2022-07-12T19:30:46.295Z"
   },
   {
    "duration": 24,
    "start_time": "2022-07-12T19:31:54.962Z"
   },
   {
    "duration": 19,
    "start_time": "2022-07-12T19:32:00.741Z"
   },
   {
    "duration": 26,
    "start_time": "2022-07-12T19:32:17.969Z"
   },
   {
    "duration": 17,
    "start_time": "2022-07-12T19:32:20.155Z"
   },
   {
    "duration": 26,
    "start_time": "2022-07-12T19:33:11.764Z"
   },
   {
    "duration": 14,
    "start_time": "2022-07-12T19:33:13.979Z"
   },
   {
    "duration": 26,
    "start_time": "2022-07-12T19:34:13.948Z"
   },
   {
    "duration": 13,
    "start_time": "2022-07-12T19:34:16.243Z"
   },
   {
    "duration": 33,
    "start_time": "2022-07-12T19:34:34.492Z"
   },
   {
    "duration": 19,
    "start_time": "2022-07-12T19:34:36.391Z"
   },
   {
    "duration": 25,
    "start_time": "2022-07-12T19:34:43.905Z"
   },
   {
    "duration": 19,
    "start_time": "2022-07-12T19:34:45.908Z"
   },
   {
    "duration": 31,
    "start_time": "2022-07-12T19:35:36.093Z"
   },
   {
    "duration": 19,
    "start_time": "2022-07-12T19:35:37.454Z"
   },
   {
    "duration": 47,
    "start_time": "2022-07-12T19:35:49.599Z"
   },
   {
    "duration": 33,
    "start_time": "2022-07-12T19:36:32.548Z"
   },
   {
    "duration": 32,
    "start_time": "2022-07-12T19:37:38.010Z"
   },
   {
    "duration": 15,
    "start_time": "2022-07-12T19:37:39.950Z"
   },
   {
    "duration": 11,
    "start_time": "2022-07-12T19:37:48.356Z"
   },
   {
    "duration": 25,
    "start_time": "2022-07-12T19:38:47.415Z"
   },
   {
    "duration": 14,
    "start_time": "2022-07-12T19:38:52.815Z"
   },
   {
    "duration": 34,
    "start_time": "2022-07-12T19:39:02.646Z"
   },
   {
    "duration": 16,
    "start_time": "2022-07-12T19:39:05.021Z"
   },
   {
    "duration": 31,
    "start_time": "2022-07-12T19:39:35.066Z"
   },
   {
    "duration": 21,
    "start_time": "2022-07-12T19:39:36.925Z"
   },
   {
    "duration": 49,
    "start_time": "2022-07-12T19:41:01.168Z"
   },
   {
    "duration": 142,
    "start_time": "2022-07-12T19:43:10.942Z"
   },
   {
    "duration": 1152,
    "start_time": "2022-07-12T19:50:26.212Z"
   },
   {
    "duration": 2842,
    "start_time": "2022-07-12T19:50:34.587Z"
   },
   {
    "duration": 925,
    "start_time": "2022-07-12T19:50:45.641Z"
   },
   {
    "duration": 1092,
    "start_time": "2022-07-12T19:51:29.515Z"
   },
   {
    "duration": 880,
    "start_time": "2022-07-12T19:51:31.649Z"
   },
   {
    "duration": 1045,
    "start_time": "2022-07-12T19:51:52.342Z"
   },
   {
    "duration": 920,
    "start_time": "2022-07-12T19:52:32.316Z"
   },
   {
    "duration": 1032,
    "start_time": "2022-07-12T19:53:51.858Z"
   },
   {
    "duration": 409,
    "start_time": "2022-07-12T19:54:17.227Z"
   },
   {
    "duration": 468,
    "start_time": "2022-07-12T19:55:08.963Z"
   },
   {
    "duration": 391,
    "start_time": "2022-07-12T19:55:18.473Z"
   },
   {
    "duration": 485,
    "start_time": "2022-07-12T19:55:32.424Z"
   },
   {
    "duration": 584,
    "start_time": "2022-07-12T19:56:02.624Z"
   },
   {
    "duration": 555,
    "start_time": "2022-07-12T19:56:17.139Z"
   },
   {
    "duration": 400,
    "start_time": "2022-07-12T19:56:20.326Z"
   },
   {
    "duration": 389,
    "start_time": "2022-07-12T19:56:49.128Z"
   },
   {
    "duration": 321,
    "start_time": "2022-07-12T19:57:22.219Z"
   },
   {
    "duration": 537,
    "start_time": "2022-07-12T19:59:09.921Z"
   },
   {
    "duration": 330,
    "start_time": "2022-07-12T19:59:25.011Z"
   },
   {
    "duration": 453,
    "start_time": "2022-07-12T19:59:35.974Z"
   },
   {
    "duration": 16,
    "start_time": "2022-07-12T20:00:46.280Z"
   },
   {
    "duration": 4,
    "start_time": "2022-07-12T20:00:56.789Z"
   },
   {
    "duration": 248,
    "start_time": "2022-07-12T20:00:56.796Z"
   },
   {
    "duration": 169,
    "start_time": "2022-07-12T20:00:57.046Z"
   },
   {
    "duration": 104,
    "start_time": "2022-07-12T20:00:57.217Z"
   },
   {
    "duration": 18,
    "start_time": "2022-07-12T20:00:57.324Z"
   },
   {
    "duration": 30,
    "start_time": "2022-07-12T20:00:57.344Z"
   },
   {
    "duration": 2,
    "start_time": "2022-07-12T20:00:57.376Z"
   },
   {
    "duration": 6,
    "start_time": "2022-07-12T20:00:57.380Z"
   },
   {
    "duration": 19,
    "start_time": "2022-07-12T20:00:57.389Z"
   },
   {
    "duration": 5,
    "start_time": "2022-07-12T20:00:57.414Z"
   },
   {
    "duration": 15,
    "start_time": "2022-07-12T20:00:57.421Z"
   },
   {
    "duration": 11,
    "start_time": "2022-07-12T20:00:57.438Z"
   },
   {
    "duration": 11,
    "start_time": "2022-07-12T20:00:57.452Z"
   },
   {
    "duration": 5,
    "start_time": "2022-07-12T20:00:57.465Z"
   },
   {
    "duration": 57,
    "start_time": "2022-07-12T20:00:57.472Z"
   },
   {
    "duration": 43,
    "start_time": "2022-07-12T20:00:57.532Z"
   },
   {
    "duration": 20,
    "start_time": "2022-07-12T20:00:57.578Z"
   },
   {
    "duration": 77,
    "start_time": "2022-07-12T20:00:57.599Z"
   },
   {
    "duration": 43,
    "start_time": "2022-07-12T20:00:57.678Z"
   },
   {
    "duration": 11,
    "start_time": "2022-07-12T20:00:57.723Z"
   },
   {
    "duration": 37,
    "start_time": "2022-07-12T20:00:57.737Z"
   },
   {
    "duration": 36,
    "start_time": "2022-07-12T20:00:57.777Z"
   },
   {
    "duration": 27,
    "start_time": "2022-07-12T20:00:57.817Z"
   },
   {
    "duration": 23,
    "start_time": "2022-07-12T20:00:57.849Z"
   },
   {
    "duration": 38,
    "start_time": "2022-07-12T20:00:57.874Z"
   },
   {
    "duration": 6,
    "start_time": "2022-07-12T20:00:57.916Z"
   },
   {
    "duration": 8,
    "start_time": "2022-07-12T20:00:57.924Z"
   },
   {
    "duration": 9,
    "start_time": "2022-07-12T20:00:57.934Z"
   },
   {
    "duration": 6,
    "start_time": "2022-07-12T20:00:57.944Z"
   },
   {
    "duration": 5,
    "start_time": "2022-07-12T20:00:57.952Z"
   },
   {
    "duration": 6,
    "start_time": "2022-07-12T20:00:57.959Z"
   },
   {
    "duration": 11,
    "start_time": "2022-07-12T20:00:57.967Z"
   },
   {
    "duration": 30,
    "start_time": "2022-07-12T20:00:57.980Z"
   },
   {
    "duration": 15,
    "start_time": "2022-07-12T20:00:58.015Z"
   },
   {
    "duration": 7,
    "start_time": "2022-07-12T20:00:58.032Z"
   },
   {
    "duration": 10,
    "start_time": "2022-07-12T20:00:58.041Z"
   },
   {
    "duration": 22,
    "start_time": "2022-07-12T20:00:58.053Z"
   },
   {
    "duration": 159,
    "start_time": "2022-07-12T20:00:58.077Z"
   },
   {
    "duration": 3,
    "start_time": "2022-07-12T20:00:58.239Z"
   },
   {
    "duration": 19,
    "start_time": "2022-07-12T20:00:58.244Z"
   },
   {
    "duration": 67,
    "start_time": "2022-07-12T20:00:58.265Z"
   },
   {
    "duration": 29,
    "start_time": "2022-07-12T20:00:58.334Z"
   },
   {
    "duration": 9,
    "start_time": "2022-07-12T20:00:58.366Z"
   },
   {
    "duration": 29,
    "start_time": "2022-07-12T20:00:58.377Z"
   },
   {
    "duration": 44,
    "start_time": "2022-07-12T20:00:58.408Z"
   },
   {
    "duration": 27,
    "start_time": "2022-07-12T20:00:58.454Z"
   },
   {
    "duration": 1068,
    "start_time": "2022-07-12T20:00:58.483Z"
   },
   {
    "duration": 454,
    "start_time": "2022-07-12T20:00:59.554Z"
   },
   {
    "duration": 348,
    "start_time": "2022-07-12T20:01:03.714Z"
   },
   {
    "duration": 260,
    "start_time": "2022-07-12T20:02:14.555Z"
   },
   {
    "duration": 303,
    "start_time": "2022-07-12T20:03:33.727Z"
   },
   {
    "duration": 296,
    "start_time": "2022-07-12T20:03:43.987Z"
   },
   {
    "duration": 310,
    "start_time": "2022-07-12T20:04:17.742Z"
   },
   {
    "duration": 363,
    "start_time": "2022-07-12T20:04:51.042Z"
   },
   {
    "duration": 385,
    "start_time": "2022-07-12T20:05:08.741Z"
   },
   {
    "duration": 21,
    "start_time": "2022-07-12T20:06:41.175Z"
   },
   {
    "duration": 5,
    "start_time": "2022-07-12T20:07:27.199Z"
   },
   {
    "duration": 206,
    "start_time": "2022-07-12T20:07:27.208Z"
   },
   {
    "duration": 165,
    "start_time": "2022-07-12T20:07:27.418Z"
   },
   {
    "duration": 128,
    "start_time": "2022-07-12T20:07:27.586Z"
   },
   {
    "duration": 19,
    "start_time": "2022-07-12T20:07:27.718Z"
   },
   {
    "duration": 28,
    "start_time": "2022-07-12T20:07:27.739Z"
   },
   {
    "duration": 2,
    "start_time": "2022-07-12T20:07:27.770Z"
   },
   {
    "duration": 7,
    "start_time": "2022-07-12T20:07:27.774Z"
   },
   {
    "duration": 6,
    "start_time": "2022-07-12T20:07:27.783Z"
   },
   {
    "duration": 14,
    "start_time": "2022-07-12T20:07:27.792Z"
   },
   {
    "duration": 12,
    "start_time": "2022-07-12T20:07:27.811Z"
   },
   {
    "duration": 8,
    "start_time": "2022-07-12T20:07:27.825Z"
   },
   {
    "duration": 6,
    "start_time": "2022-07-12T20:07:27.836Z"
   },
   {
    "duration": 4,
    "start_time": "2022-07-12T20:07:27.845Z"
   },
   {
    "duration": 60,
    "start_time": "2022-07-12T20:07:27.850Z"
   },
   {
    "duration": 188,
    "start_time": "2022-07-12T20:07:27.917Z"
   },
   {
    "duration": 15,
    "start_time": "2022-07-12T20:07:28.107Z"
   },
   {
    "duration": 55,
    "start_time": "2022-07-12T20:07:28.125Z"
   },
   {
    "duration": 36,
    "start_time": "2022-07-12T20:07:28.182Z"
   },
   {
    "duration": 5,
    "start_time": "2022-07-12T20:07:28.220Z"
   },
   {
    "duration": 33,
    "start_time": "2022-07-12T20:07:28.227Z"
   },
   {
    "duration": 49,
    "start_time": "2022-07-12T20:07:28.262Z"
   },
   {
    "duration": 25,
    "start_time": "2022-07-12T20:07:28.316Z"
   },
   {
    "duration": 27,
    "start_time": "2022-07-12T20:07:28.343Z"
   },
   {
    "duration": 26,
    "start_time": "2022-07-12T20:07:28.373Z"
   },
   {
    "duration": 10,
    "start_time": "2022-07-12T20:07:28.409Z"
   },
   {
    "duration": 12,
    "start_time": "2022-07-12T20:07:28.421Z"
   },
   {
    "duration": 6,
    "start_time": "2022-07-12T20:07:28.438Z"
   },
   {
    "duration": 6,
    "start_time": "2022-07-12T20:07:28.446Z"
   },
   {
    "duration": 5,
    "start_time": "2022-07-12T20:07:28.453Z"
   },
   {
    "duration": 7,
    "start_time": "2022-07-12T20:07:28.460Z"
   },
   {
    "duration": 43,
    "start_time": "2022-07-12T20:07:28.469Z"
   },
   {
    "duration": 9,
    "start_time": "2022-07-12T20:07:28.514Z"
   },
   {
    "duration": 5,
    "start_time": "2022-07-12T20:07:28.525Z"
   },
   {
    "duration": 13,
    "start_time": "2022-07-12T20:07:28.532Z"
   },
   {
    "duration": 11,
    "start_time": "2022-07-12T20:07:28.547Z"
   },
   {
    "duration": 16,
    "start_time": "2022-07-12T20:07:28.560Z"
   },
   {
    "duration": 141,
    "start_time": "2022-07-12T20:07:28.598Z"
   },
   {
    "duration": 3,
    "start_time": "2022-07-12T20:07:28.741Z"
   },
   {
    "duration": 18,
    "start_time": "2022-07-12T20:07:28.745Z"
   },
   {
    "duration": 51,
    "start_time": "2022-07-12T20:07:28.765Z"
   },
   {
    "duration": 36,
    "start_time": "2022-07-12T20:07:28.819Z"
   },
   {
    "duration": 8,
    "start_time": "2022-07-12T20:07:28.858Z"
   },
   {
    "duration": 36,
    "start_time": "2022-07-12T20:07:28.868Z"
   },
   {
    "duration": 34,
    "start_time": "2022-07-12T20:07:28.914Z"
   },
   {
    "duration": 28,
    "start_time": "2022-07-12T20:07:28.949Z"
   },
   {
    "duration": 901,
    "start_time": "2022-07-12T20:07:28.980Z"
   },
   {
    "duration": 338,
    "start_time": "2022-07-12T20:07:29.882Z"
   },
   {
    "duration": 15,
    "start_time": "2022-07-12T20:07:33.862Z"
   },
   {
    "duration": 13,
    "start_time": "2022-07-12T20:08:18.349Z"
   },
   {
    "duration": 14,
    "start_time": "2022-07-12T20:08:22.918Z"
   },
   {
    "duration": 18,
    "start_time": "2022-07-12T20:08:45.641Z"
   },
   {
    "duration": 19,
    "start_time": "2022-07-12T20:09:01.893Z"
   },
   {
    "duration": 14,
    "start_time": "2022-07-12T20:09:10.333Z"
   },
   {
    "duration": 9,
    "start_time": "2022-07-12T20:09:15.897Z"
   },
   {
    "duration": 22,
    "start_time": "2022-07-12T20:09:19.486Z"
   },
   {
    "duration": 15,
    "start_time": "2022-07-12T20:09:34.714Z"
   },
   {
    "duration": 20,
    "start_time": "2022-07-12T20:10:00.095Z"
   },
   {
    "duration": 22,
    "start_time": "2022-07-12T20:10:25.199Z"
   },
   {
    "duration": 26,
    "start_time": "2022-07-12T20:11:16.223Z"
   },
   {
    "duration": 267,
    "start_time": "2022-07-12T20:11:27.198Z"
   },
   {
    "duration": 403,
    "start_time": "2022-07-12T20:11:51.581Z"
   },
   {
    "duration": 408,
    "start_time": "2022-07-12T20:12:18.462Z"
   },
   {
    "duration": 248,
    "start_time": "2022-07-12T20:12:28.383Z"
   },
   {
    "duration": 216,
    "start_time": "2022-07-12T20:13:01.364Z"
   },
   {
    "duration": 232,
    "start_time": "2022-07-12T20:13:13.327Z"
   },
   {
    "duration": 345,
    "start_time": "2022-07-12T20:13:31.384Z"
   },
   {
    "duration": 369,
    "start_time": "2022-07-12T20:13:46.684Z"
   },
   {
    "duration": 267,
    "start_time": "2022-07-12T20:13:59.280Z"
   },
   {
    "duration": 398,
    "start_time": "2022-07-12T20:14:20.521Z"
   },
   {
    "duration": 343,
    "start_time": "2022-07-12T20:15:38.278Z"
   },
   {
    "duration": 249,
    "start_time": "2022-07-12T20:15:54.594Z"
   },
   {
    "duration": 351,
    "start_time": "2022-07-12T20:16:11.133Z"
   },
   {
    "duration": 297,
    "start_time": "2022-07-12T20:16:49.519Z"
   },
   {
    "duration": 305,
    "start_time": "2022-07-12T20:17:21.173Z"
   },
   {
    "duration": 231,
    "start_time": "2022-07-12T20:17:31.278Z"
   },
   {
    "duration": 301,
    "start_time": "2022-07-12T20:18:39.722Z"
   },
   {
    "duration": 252,
    "start_time": "2022-07-12T20:18:48.992Z"
   },
   {
    "duration": 282,
    "start_time": "2022-07-12T20:18:59.741Z"
   },
   {
    "duration": 335,
    "start_time": "2022-07-12T20:19:56.638Z"
   },
   {
    "duration": 19,
    "start_time": "2022-07-12T20:22:13.276Z"
   },
   {
    "duration": 16,
    "start_time": "2022-07-12T20:22:33.415Z"
   },
   {
    "duration": 537,
    "start_time": "2022-07-12T20:22:52.919Z"
   },
   {
    "duration": 13,
    "start_time": "2022-07-12T20:24:26.079Z"
   },
   {
    "duration": 25,
    "start_time": "2022-07-12T20:24:29.354Z"
   },
   {
    "duration": 547,
    "start_time": "2022-07-12T20:59:48.075Z"
   },
   {
    "duration": 489,
    "start_time": "2022-07-12T21:00:01.057Z"
   },
   {
    "duration": 435,
    "start_time": "2022-07-12T21:00:10.146Z"
   },
   {
    "duration": 478,
    "start_time": "2022-07-12T21:00:16.294Z"
   },
   {
    "duration": 452,
    "start_time": "2022-07-12T21:00:37.962Z"
   },
   {
    "duration": 809,
    "start_time": "2022-07-12T21:00:45.389Z"
   },
   {
    "duration": 25,
    "start_time": "2022-07-12T21:01:57.967Z"
   },
   {
    "duration": 33,
    "start_time": "2022-07-12T21:02:06.533Z"
   },
   {
    "duration": 653,
    "start_time": "2022-07-12T21:02:51.260Z"
   },
   {
    "duration": 80,
    "start_time": "2022-07-12T21:03:29.480Z"
   },
   {
    "duration": 95,
    "start_time": "2022-07-12T21:03:40.527Z"
   },
   {
    "duration": 74,
    "start_time": "2022-07-12T21:03:51.015Z"
   },
   {
    "duration": 88,
    "start_time": "2022-07-12T21:03:56.237Z"
   },
   {
    "duration": 742,
    "start_time": "2022-07-12T21:04:00.974Z"
   },
   {
    "duration": 703,
    "start_time": "2022-07-12T21:04:11.115Z"
   },
   {
    "duration": 739,
    "start_time": "2022-07-12T21:05:18.737Z"
   },
   {
    "duration": 724,
    "start_time": "2022-07-12T21:05:24.253Z"
   },
   {
    "duration": 771,
    "start_time": "2022-07-12T21:06:23.216Z"
   },
   {
    "duration": 679,
    "start_time": "2022-07-12T21:08:24.684Z"
   },
   {
    "duration": 666,
    "start_time": "2022-07-12T21:08:39.982Z"
   },
   {
    "duration": 698,
    "start_time": "2022-07-12T21:09:13.036Z"
   },
   {
    "duration": 793,
    "start_time": "2022-07-12T21:09:20.430Z"
   },
   {
    "duration": 362,
    "start_time": "2022-07-12T21:11:56.879Z"
   },
   {
    "duration": 286,
    "start_time": "2022-07-12T21:12:29.268Z"
   },
   {
    "duration": 312,
    "start_time": "2022-07-12T21:12:36.333Z"
   },
   {
    "duration": 704,
    "start_time": "2022-07-12T21:14:12.439Z"
   },
   {
    "duration": 703,
    "start_time": "2022-07-12T21:14:35.417Z"
   },
   {
    "duration": 703,
    "start_time": "2022-07-12T21:15:14.266Z"
   },
   {
    "duration": 699,
    "start_time": "2022-07-12T21:15:17.817Z"
   },
   {
    "duration": 724,
    "start_time": "2022-07-12T21:15:20.789Z"
   },
   {
    "duration": 278,
    "start_time": "2022-07-12T21:16:22.356Z"
   },
   {
    "duration": 417,
    "start_time": "2022-07-12T21:18:09.232Z"
   },
   {
    "duration": 286,
    "start_time": "2022-07-12T21:18:14.701Z"
   },
   {
    "duration": 351,
    "start_time": "2022-07-12T21:18:46.836Z"
   },
   {
    "duration": 258,
    "start_time": "2022-07-12T21:19:10.887Z"
   },
   {
    "duration": 256,
    "start_time": "2022-07-12T21:19:28.005Z"
   },
   {
    "duration": 260,
    "start_time": "2022-07-12T21:19:33.004Z"
   },
   {
    "duration": 280,
    "start_time": "2022-07-12T21:19:38.584Z"
   },
   {
    "duration": 401,
    "start_time": "2022-07-12T21:19:43.397Z"
   },
   {
    "duration": 282,
    "start_time": "2022-07-12T21:19:51.456Z"
   },
   {
    "duration": 105,
    "start_time": "2022-07-12T21:21:54.617Z"
   },
   {
    "duration": 1519,
    "start_time": "2022-07-12T21:23:29.973Z"
   },
   {
    "duration": 175,
    "start_time": "2022-07-12T21:23:31.495Z"
   },
   {
    "duration": 147,
    "start_time": "2022-07-12T21:23:31.672Z"
   },
   {
    "duration": 105,
    "start_time": "2022-07-12T21:23:31.822Z"
   },
   {
    "duration": 21,
    "start_time": "2022-07-12T21:23:31.929Z"
   },
   {
    "duration": 30,
    "start_time": "2022-07-12T21:23:31.951Z"
   },
   {
    "duration": 3,
    "start_time": "2022-07-12T21:23:31.983Z"
   },
   {
    "duration": 9,
    "start_time": "2022-07-12T21:23:31.987Z"
   },
   {
    "duration": 6,
    "start_time": "2022-07-12T21:23:31.998Z"
   },
   {
    "duration": 7,
    "start_time": "2022-07-12T21:23:32.007Z"
   },
   {
    "duration": 10,
    "start_time": "2022-07-12T21:23:32.016Z"
   },
   {
    "duration": 12,
    "start_time": "2022-07-12T21:23:32.028Z"
   },
   {
    "duration": 8,
    "start_time": "2022-07-12T21:23:32.042Z"
   },
   {
    "duration": 7,
    "start_time": "2022-07-12T21:23:32.052Z"
   },
   {
    "duration": 41,
    "start_time": "2022-07-12T21:23:32.061Z"
   },
   {
    "duration": 47,
    "start_time": "2022-07-12T21:23:32.104Z"
   },
   {
    "duration": 17,
    "start_time": "2022-07-12T21:23:32.154Z"
   },
   {
    "duration": 85,
    "start_time": "2022-07-12T21:23:32.173Z"
   },
   {
    "duration": 20,
    "start_time": "2022-07-12T21:23:32.259Z"
   },
   {
    "duration": 21,
    "start_time": "2022-07-12T21:23:32.281Z"
   },
   {
    "duration": 36,
    "start_time": "2022-07-12T21:23:32.304Z"
   },
   {
    "duration": 22,
    "start_time": "2022-07-12T21:23:32.343Z"
   },
   {
    "duration": 50,
    "start_time": "2022-07-12T21:23:32.367Z"
   },
   {
    "duration": 26,
    "start_time": "2022-07-12T21:23:32.419Z"
   },
   {
    "duration": 16,
    "start_time": "2022-07-12T21:23:32.447Z"
   },
   {
    "duration": 33,
    "start_time": "2022-07-12T21:23:32.465Z"
   },
   {
    "duration": 8,
    "start_time": "2022-07-12T21:23:32.500Z"
   },
   {
    "duration": 5,
    "start_time": "2022-07-12T21:23:32.511Z"
   },
   {
    "duration": 4,
    "start_time": "2022-07-12T21:23:32.518Z"
   },
   {
    "duration": 6,
    "start_time": "2022-07-12T21:23:32.524Z"
   },
   {
    "duration": 6,
    "start_time": "2022-07-12T21:23:32.531Z"
   },
   {
    "duration": 8,
    "start_time": "2022-07-12T21:23:32.539Z"
   },
   {
    "duration": 10,
    "start_time": "2022-07-12T21:23:32.549Z"
   },
   {
    "duration": 5,
    "start_time": "2022-07-12T21:23:32.560Z"
   },
   {
    "duration": 31,
    "start_time": "2022-07-12T21:23:32.567Z"
   },
   {
    "duration": 13,
    "start_time": "2022-07-12T21:23:32.600Z"
   },
   {
    "duration": 18,
    "start_time": "2022-07-12T21:23:32.616Z"
   },
   {
    "duration": 131,
    "start_time": "2022-07-12T21:23:32.636Z"
   },
   {
    "duration": 3,
    "start_time": "2022-07-12T21:23:32.769Z"
   },
   {
    "duration": 27,
    "start_time": "2022-07-12T21:23:32.774Z"
   },
   {
    "duration": 34,
    "start_time": "2022-07-12T21:23:32.803Z"
   },
   {
    "duration": 26,
    "start_time": "2022-07-12T21:23:32.839Z"
   },
   {
    "duration": 7,
    "start_time": "2022-07-12T21:23:32.866Z"
   },
   {
    "duration": 7,
    "start_time": "2022-07-12T21:23:32.898Z"
   },
   {
    "duration": 18,
    "start_time": "2022-07-12T21:23:32.907Z"
   },
   {
    "duration": 32,
    "start_time": "2022-07-12T21:23:32.927Z"
   },
   {
    "duration": 46,
    "start_time": "2022-07-12T21:23:32.961Z"
   },
   {
    "duration": 765,
    "start_time": "2022-07-12T21:23:33.009Z"
   },
   {
    "duration": 792,
    "start_time": "2022-07-12T21:23:33.776Z"
   },
   {
    "duration": 707,
    "start_time": "2022-07-12T21:23:34.570Z"
   },
   {
    "duration": 710,
    "start_time": "2022-07-12T21:23:35.279Z"
   },
   {
    "duration": 268,
    "start_time": "2022-07-12T21:23:35.992Z"
   },
   {
    "duration": 285,
    "start_time": "2022-07-12T21:23:36.262Z"
   },
   {
    "duration": 340,
    "start_time": "2022-07-12T21:23:36.550Z"
   },
   {
    "duration": 277,
    "start_time": "2022-07-12T21:23:36.892Z"
   },
   {
    "duration": 297,
    "start_time": "2022-07-12T21:23:37.171Z"
   },
   {
    "duration": 315,
    "start_time": "2022-07-12T21:23:37.471Z"
   },
   {
    "duration": 363,
    "start_time": "2022-07-12T21:23:37.788Z"
   },
   {
    "duration": 276,
    "start_time": "2022-07-12T21:23:38.153Z"
   },
   {
    "duration": 6,
    "start_time": "2022-07-12T21:23:38.431Z"
   },
   {
    "duration": 26,
    "start_time": "2022-07-12T21:23:38.439Z"
   },
   {
    "duration": 1910,
    "start_time": "2022-07-13T14:34:39.262Z"
   },
   {
    "duration": 526,
    "start_time": "2022-07-13T14:34:41.174Z"
   },
   {
    "duration": 715,
    "start_time": "2022-07-13T14:34:41.704Z"
   },
   {
    "duration": 306,
    "start_time": "2022-07-13T14:34:42.420Z"
   },
   {
    "duration": 66,
    "start_time": "2022-07-13T14:34:42.727Z"
   },
   {
    "duration": 66,
    "start_time": "2022-07-13T14:34:42.794Z"
   },
   {
    "duration": 2,
    "start_time": "2022-07-13T14:34:42.862Z"
   },
   {
    "duration": 5,
    "start_time": "2022-07-13T14:34:42.865Z"
   },
   {
    "duration": 11,
    "start_time": "2022-07-13T14:34:42.872Z"
   },
   {
    "duration": 4,
    "start_time": "2022-07-13T14:34:42.884Z"
   },
   {
    "duration": 4,
    "start_time": "2022-07-13T14:34:42.889Z"
   },
   {
    "duration": 6,
    "start_time": "2022-07-13T14:34:42.894Z"
   },
   {
    "duration": 5,
    "start_time": "2022-07-13T14:34:42.902Z"
   },
   {
    "duration": 4,
    "start_time": "2022-07-13T14:34:42.909Z"
   },
   {
    "duration": 31,
    "start_time": "2022-07-13T14:34:42.915Z"
   },
   {
    "duration": 40,
    "start_time": "2022-07-13T14:34:42.947Z"
   },
   {
    "duration": 14,
    "start_time": "2022-07-13T14:34:42.988Z"
   },
   {
    "duration": 63,
    "start_time": "2022-07-13T14:34:43.004Z"
   },
   {
    "duration": 16,
    "start_time": "2022-07-13T14:34:43.069Z"
   },
   {
    "duration": 4,
    "start_time": "2022-07-13T14:34:43.086Z"
   },
   {
    "duration": 30,
    "start_time": "2022-07-13T14:34:43.091Z"
   },
   {
    "duration": 36,
    "start_time": "2022-07-13T14:34:43.122Z"
   },
   {
    "duration": 14,
    "start_time": "2022-07-13T14:34:43.160Z"
   },
   {
    "duration": 19,
    "start_time": "2022-07-13T14:34:43.176Z"
   },
   {
    "duration": 11,
    "start_time": "2022-07-13T14:34:43.196Z"
   },
   {
    "duration": 24,
    "start_time": "2022-07-13T14:34:43.208Z"
   },
   {
    "duration": 9,
    "start_time": "2022-07-13T14:34:43.235Z"
   },
   {
    "duration": 19,
    "start_time": "2022-07-13T14:34:43.246Z"
   },
   {
    "duration": 17,
    "start_time": "2022-07-13T14:34:43.267Z"
   },
   {
    "duration": 23,
    "start_time": "2022-07-13T14:34:43.285Z"
   },
   {
    "duration": 14,
    "start_time": "2022-07-13T14:34:43.309Z"
   },
   {
    "duration": 13,
    "start_time": "2022-07-13T14:34:43.325Z"
   },
   {
    "duration": 19,
    "start_time": "2022-07-13T14:34:43.339Z"
   },
   {
    "duration": 16,
    "start_time": "2022-07-13T14:34:43.359Z"
   },
   {
    "duration": 20,
    "start_time": "2022-07-13T14:34:43.377Z"
   },
   {
    "duration": 10,
    "start_time": "2022-07-13T14:34:43.398Z"
   },
   {
    "duration": 118,
    "start_time": "2022-07-13T14:34:43.409Z"
   },
   {
    "duration": 2,
    "start_time": "2022-07-13T14:34:43.528Z"
   },
   {
    "duration": 41,
    "start_time": "2022-07-13T14:34:43.532Z"
   },
   {
    "duration": 25,
    "start_time": "2022-07-13T14:34:43.575Z"
   },
   {
    "duration": 6,
    "start_time": "2022-07-13T14:34:43.601Z"
   },
   {
    "duration": 34,
    "start_time": "2022-07-13T14:34:43.608Z"
   },
   {
    "duration": 29,
    "start_time": "2022-07-13T14:34:43.644Z"
   },
   {
    "duration": 19,
    "start_time": "2022-07-13T14:34:43.675Z"
   },
   {
    "duration": 559,
    "start_time": "2022-07-13T14:34:43.695Z"
   },
   {
    "duration": 632,
    "start_time": "2022-07-13T14:34:44.255Z"
   },
   {
    "duration": 566,
    "start_time": "2022-07-13T14:34:44.888Z"
   },
   {
    "duration": 590,
    "start_time": "2022-07-13T14:34:45.456Z"
   },
   {
    "duration": 272,
    "start_time": "2022-07-13T14:34:46.051Z"
   },
   {
    "duration": 246,
    "start_time": "2022-07-13T14:34:46.324Z"
   },
   {
    "duration": 242,
    "start_time": "2022-07-13T14:34:46.572Z"
   },
   {
    "duration": 210,
    "start_time": "2022-07-13T14:34:46.816Z"
   },
   {
    "duration": 229,
    "start_time": "2022-07-13T14:34:47.027Z"
   },
   {
    "duration": 244,
    "start_time": "2022-07-13T14:34:47.257Z"
   },
   {
    "duration": 307,
    "start_time": "2022-07-13T14:34:47.502Z"
   },
   {
    "duration": 210,
    "start_time": "2022-07-13T14:34:47.810Z"
   },
   {
    "duration": 5,
    "start_time": "2022-07-13T14:34:48.021Z"
   },
   {
    "duration": 28,
    "start_time": "2022-07-13T14:34:48.027Z"
   },
   {
    "duration": 12,
    "start_time": "2022-07-13T19:02:58.202Z"
   },
   {
    "duration": 1876,
    "start_time": "2022-07-13T19:03:05.143Z"
   },
   {
    "duration": 197,
    "start_time": "2022-07-13T19:03:07.021Z"
   },
   {
    "duration": 294,
    "start_time": "2022-07-13T19:03:07.219Z"
   },
   {
    "duration": 119,
    "start_time": "2022-07-13T19:03:07.516Z"
   },
   {
    "duration": 29,
    "start_time": "2022-07-13T19:03:07.637Z"
   },
   {
    "duration": 35,
    "start_time": "2022-07-13T19:03:07.668Z"
   },
   {
    "duration": 3,
    "start_time": "2022-07-13T19:03:07.704Z"
   },
   {
    "duration": 23,
    "start_time": "2022-07-13T19:03:07.708Z"
   },
   {
    "duration": 9,
    "start_time": "2022-07-13T19:03:07.732Z"
   },
   {
    "duration": 12,
    "start_time": "2022-07-13T19:03:07.743Z"
   },
   {
    "duration": 12,
    "start_time": "2022-07-13T19:03:07.756Z"
   },
   {
    "duration": 10,
    "start_time": "2022-07-13T19:03:07.769Z"
   },
   {
    "duration": 15,
    "start_time": "2022-07-13T19:03:07.780Z"
   },
   {
    "duration": 5,
    "start_time": "2022-07-13T19:03:07.796Z"
   },
   {
    "duration": 35,
    "start_time": "2022-07-13T19:03:07.803Z"
   },
   {
    "duration": 38,
    "start_time": "2022-07-13T19:03:07.839Z"
   },
   {
    "duration": 28,
    "start_time": "2022-07-13T19:03:07.878Z"
   },
   {
    "duration": 52,
    "start_time": "2022-07-13T19:03:07.908Z"
   },
   {
    "duration": 16,
    "start_time": "2022-07-13T19:03:07.961Z"
   },
   {
    "duration": 25,
    "start_time": "2022-07-13T19:03:07.978Z"
   },
   {
    "duration": 35,
    "start_time": "2022-07-13T19:03:08.004Z"
   },
   {
    "duration": 20,
    "start_time": "2022-07-13T19:03:08.041Z"
   },
   {
    "duration": 16,
    "start_time": "2022-07-13T19:03:08.063Z"
   },
   {
    "duration": 39,
    "start_time": "2022-07-13T19:03:08.081Z"
   },
   {
    "duration": 15,
    "start_time": "2022-07-13T19:03:08.121Z"
   },
   {
    "duration": 6,
    "start_time": "2022-07-13T19:03:08.138Z"
   },
   {
    "duration": 10,
    "start_time": "2022-07-13T19:03:08.146Z"
   },
   {
    "duration": 4,
    "start_time": "2022-07-13T19:03:08.160Z"
   },
   {
    "duration": 4,
    "start_time": "2022-07-13T19:03:08.166Z"
   },
   {
    "duration": 29,
    "start_time": "2022-07-13T19:03:08.172Z"
   },
   {
    "duration": 18,
    "start_time": "2022-07-13T19:03:08.202Z"
   },
   {
    "duration": 12,
    "start_time": "2022-07-13T19:03:08.222Z"
   },
   {
    "duration": 11,
    "start_time": "2022-07-13T19:03:08.236Z"
   },
   {
    "duration": 15,
    "start_time": "2022-07-13T19:03:08.248Z"
   },
   {
    "duration": 14,
    "start_time": "2022-07-13T19:03:08.265Z"
   },
   {
    "duration": 9,
    "start_time": "2022-07-13T19:03:08.280Z"
   },
   {
    "duration": 102,
    "start_time": "2022-07-13T19:03:08.291Z"
   },
   {
    "duration": 2,
    "start_time": "2022-07-13T19:03:08.395Z"
   },
   {
    "duration": 38,
    "start_time": "2022-07-13T19:03:08.398Z"
   },
   {
    "duration": 21,
    "start_time": "2022-07-13T19:03:08.437Z"
   },
   {
    "duration": 11,
    "start_time": "2022-07-13T19:03:08.460Z"
   },
   {
    "duration": 25,
    "start_time": "2022-07-13T19:03:08.473Z"
   },
   {
    "duration": 23,
    "start_time": "2022-07-13T19:03:08.500Z"
   },
   {
    "duration": 19,
    "start_time": "2022-07-13T19:03:08.525Z"
   },
   {
    "duration": 616,
    "start_time": "2022-07-13T19:03:08.545Z"
   },
   {
    "duration": 660,
    "start_time": "2022-07-13T19:03:09.163Z"
   },
   {
    "duration": 567,
    "start_time": "2022-07-13T19:03:09.825Z"
   },
   {
    "duration": 590,
    "start_time": "2022-07-13T19:03:10.394Z"
   },
   {
    "duration": 223,
    "start_time": "2022-07-13T19:03:10.985Z"
   },
   {
    "duration": 251,
    "start_time": "2022-07-13T19:03:11.210Z"
   },
   {
    "duration": 251,
    "start_time": "2022-07-13T19:03:11.462Z"
   },
   {
    "duration": 229,
    "start_time": "2022-07-13T19:03:11.714Z"
   },
   {
    "duration": 238,
    "start_time": "2022-07-13T19:03:11.944Z"
   },
   {
    "duration": 256,
    "start_time": "2022-07-13T19:03:12.184Z"
   },
   {
    "duration": 308,
    "start_time": "2022-07-13T19:03:12.442Z"
   },
   {
    "duration": 224,
    "start_time": "2022-07-13T19:03:12.751Z"
   },
   {
    "duration": 6,
    "start_time": "2022-07-13T19:03:12.976Z"
   },
   {
    "duration": 30,
    "start_time": "2022-07-13T19:03:12.983Z"
   },
   {
    "duration": 264,
    "start_time": "2022-07-13T19:05:06.501Z"
   },
   {
    "duration": 257,
    "start_time": "2022-07-13T19:11:52.532Z"
   },
   {
    "duration": 293,
    "start_time": "2022-07-13T19:13:05.760Z"
   }
  ],
  "kernelspec": {
   "display_name": "Python 3 (ipykernel)",
   "language": "python",
   "name": "python3"
  },
  "language_info": {
   "codemirror_mode": {
    "name": "ipython",
    "version": 3
   },
   "file_extension": ".py",
   "mimetype": "text/x-python",
   "name": "python",
   "nbconvert_exporter": "python",
   "pygments_lexer": "ipython3",
   "version": "3.9.7"
  },
  "toc": {
   "base_numbering": 1,
   "nav_menu": {},
   "number_sections": true,
   "sideBar": true,
   "skip_h1_title": true,
   "title_cell": "Table of Contents",
   "title_sidebar": "Contents",
   "toc_cell": false,
   "toc_position": {},
   "toc_section_display": true,
   "toc_window_display": false
  }
 },
 "nbformat": 4,
 "nbformat_minor": 5
}
